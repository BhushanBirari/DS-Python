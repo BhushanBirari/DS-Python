{
  "cells": [
    {
      "cell_type": "markdown",
      "metadata": {
        "id": "view-in-github",
        "colab_type": "text"
      },
      "source": [
        "<a href=\"https://colab.research.google.com/github/BhushanBirari/DS-Python/blob/main/03.2_Typecasting.ipynb\" target=\"_parent\"><img src=\"https://colab.research.google.com/assets/colab-badge.svg\" alt=\"Open In Colab\"/></a>"
      ]
    },
    {
      "cell_type": "code",
      "execution_count": null,
      "id": "9c495ade-817b-4b5c-975e-717bbe1b6536",
      "metadata": {
        "id": "9c495ade-817b-4b5c-975e-717bbe1b6536",
        "outputId": "472f1387-3cae-4f23-8c1e-9091897c07d4"
      },
      "outputs": [
        {
          "data": {
            "text/plain": [
              "5"
            ]
          },
          "execution_count": 1,
          "metadata": {},
          "output_type": "execute_result"
        }
      ],
      "source": [
        "a = 5\n",
        "a"
      ]
    },
    {
      "cell_type": "code",
      "execution_count": null,
      "id": "1ea5e4e2-0919-487d-ab7c-57a3be9e8864",
      "metadata": {
        "id": "1ea5e4e2-0919-487d-ab7c-57a3be9e8864",
        "outputId": "d5a88e99-4772-4d64-e74f-c8139c3412d0"
      },
      "outputs": [
        {
          "data": {
            "text/plain": [
              "int"
            ]
          },
          "execution_count": 2,
          "metadata": {},
          "output_type": "execute_result"
        }
      ],
      "source": [
        "type(a)"
      ]
    },
    {
      "cell_type": "code",
      "execution_count": null,
      "id": "2872bd09-f1a2-4f30-af82-bfa0c97df996",
      "metadata": {
        "id": "2872bd09-f1a2-4f30-af82-bfa0c97df996",
        "outputId": "c4bd668c-4d10-422e-b42f-823621f5312d"
      },
      "outputs": [
        {
          "data": {
            "text/plain": [
              "float"
            ]
          },
          "execution_count": 3,
          "metadata": {},
          "output_type": "execute_result"
        }
      ],
      "source": [
        "b = 5.6\n",
        "type(b)"
      ]
    },
    {
      "cell_type": "code",
      "execution_count": null,
      "id": "e13ec3e3-e48f-4cc1-a596-821741009108",
      "metadata": {
        "id": "e13ec3e3-e48f-4cc1-a596-821741009108",
        "outputId": "eba9ac6b-161b-4c01-e546-0ba1cc523b1b"
      },
      "outputs": [
        {
          "data": {
            "text/plain": [
              "str"
            ]
          },
          "execution_count": 5,
          "metadata": {},
          "output_type": "execute_result"
        }
      ],
      "source": [
        "a = 'Ajay'\n",
        "type(a)"
      ]
    },
    {
      "cell_type": "code",
      "execution_count": null,
      "id": "1ffef570-c0bd-4a77-a745-8107cb87926c",
      "metadata": {
        "id": "1ffef570-c0bd-4a77-a745-8107cb87926c",
        "outputId": "2cae7895-668b-4552-a55d-c890423ec3f2"
      },
      "outputs": [
        {
          "data": {
            "text/plain": [
              "5"
            ]
          },
          "execution_count": 6,
          "metadata": {},
          "output_type": "execute_result"
        }
      ],
      "source": [
        "2+3"
      ]
    },
    {
      "cell_type": "code",
      "execution_count": null,
      "id": "7dfa7bb9-6935-46e3-8dc8-55605397c99c",
      "metadata": {
        "id": "7dfa7bb9-6935-46e3-8dc8-55605397c99c",
        "outputId": "38faaf0d-5868-46e3-9b68-cccfadead66e"
      },
      "outputs": [
        {
          "data": {
            "text/plain": [
              "str"
            ]
          },
          "execution_count": 8,
          "metadata": {},
          "output_type": "execute_result"
        }
      ],
      "source": [
        "type(\"2\")"
      ]
    },
    {
      "cell_type": "code",
      "execution_count": null,
      "id": "7d9c5e3d-8420-4b82-a0c7-04f8b1e6b46d",
      "metadata": {
        "id": "7d9c5e3d-8420-4b82-a0c7-04f8b1e6b46d",
        "outputId": "9536625a-0d9f-4c27-acb6-79384cd07529"
      },
      "outputs": [
        {
          "ename": "TypeError",
          "evalue": "can only concatenate str (not \"int\") to str",
          "output_type": "error",
          "traceback": [
            "\u001b[0;31m---------------------------------------------------------------------------\u001b[0m",
            "\u001b[0;31mTypeError\u001b[0m                                 Traceback (most recent call last)",
            "Cell \u001b[0;32mIn[7], line 1\u001b[0m\n\u001b[0;32m----> 1\u001b[0m \u001b[38;5;124;43m\"\u001b[39;49m\u001b[38;5;124;43m2\u001b[39;49m\u001b[38;5;124;43m\"\u001b[39;49m\u001b[43m \u001b[49m\u001b[38;5;241;43m+\u001b[39;49m\u001b[43m \u001b[49m\u001b[38;5;241;43m3\u001b[39;49m\n",
            "\u001b[0;31mTypeError\u001b[0m: can only concatenate str (not \"int\") to str"
          ]
        }
      ],
      "source": [
        "\"2\" + 3 #it will throw an error"
      ]
    },
    {
      "cell_type": "code",
      "execution_count": null,
      "id": "d82c4239-da1c-4660-adb6-75406d2822c9",
      "metadata": {
        "id": "d82c4239-da1c-4660-adb6-75406d2822c9"
      },
      "outputs": [],
      "source": [
        "#Type casting/type conversion>> The preocess of changing the data type of a value/object\n",
        "#why?while executing/computation using operators, there can be mismatch between the datatype"
      ]
    },
    {
      "cell_type": "code",
      "execution_count": null,
      "id": "43e35001-d4ab-405d-90cd-5aba334e3f05",
      "metadata": {
        "id": "43e35001-d4ab-405d-90cd-5aba334e3f05",
        "outputId": "a6f82cc5-de45-42a6-85be-eac9a7ab6f45"
      },
      "outputs": [
        {
          "ename": "TypeError",
          "evalue": "can only concatenate str (not \"int\") to str",
          "output_type": "error",
          "traceback": [
            "\u001b[0;31m---------------------------------------------------------------------------\u001b[0m",
            "\u001b[0;31mTypeError\u001b[0m                                 Traceback (most recent call last)",
            "Cell \u001b[0;32mIn[10], line 3\u001b[0m\n\u001b[1;32m      1\u001b[0m a \u001b[38;5;241m=\u001b[39m \u001b[38;5;124m\"\u001b[39m\u001b[38;5;124m2\u001b[39m\u001b[38;5;124m\"\u001b[39m\n\u001b[1;32m      2\u001b[0m b \u001b[38;5;241m=\u001b[39m \u001b[38;5;241m3\u001b[39m\n\u001b[0;32m----> 3\u001b[0m \u001b[43ma\u001b[49m\u001b[38;5;241;43m+\u001b[39;49m\u001b[43mb\u001b[49m\n",
            "\u001b[0;31mTypeError\u001b[0m: can only concatenate str (not \"int\") to str"
          ]
        }
      ],
      "source": [
        "a = \"2\"\n",
        "b = 3\n",
        "a+b"
      ]
    },
    {
      "cell_type": "code",
      "execution_count": null,
      "id": "e7a66bb5-a243-4611-8bbe-418faa64d2a2",
      "metadata": {
        "id": "e7a66bb5-a243-4611-8bbe-418faa64d2a2",
        "outputId": "93490433-a974-4a78-93b9-75d0bd5b4c36"
      },
      "outputs": [
        {
          "data": {
            "text/plain": [
              "str"
            ]
          },
          "execution_count": 11,
          "metadata": {},
          "output_type": "execute_result"
        }
      ],
      "source": [
        "type(a)"
      ]
    },
    {
      "cell_type": "code",
      "execution_count": null,
      "id": "ea1fe7d1-9fb2-4db3-9551-04b5689d3623",
      "metadata": {
        "id": "ea1fe7d1-9fb2-4db3-9551-04b5689d3623",
        "outputId": "d6a26ed3-a1cd-4743-fbb2-964f16d8422f"
      },
      "outputs": [
        {
          "data": {
            "text/plain": [
              "5"
            ]
          },
          "execution_count": 12,
          "metadata": {},
          "output_type": "execute_result"
        }
      ],
      "source": [
        "a = \"2\"\n",
        "b = 3\n",
        "int(a)+b"
      ]
    },
    {
      "cell_type": "code",
      "execution_count": null,
      "id": "e69495df-fa1f-466c-be3e-0336be356675",
      "metadata": {
        "id": "e69495df-fa1f-466c-be3e-0336be356675",
        "outputId": "c61a7f48-56d2-422a-e6b1-a02fd764ce77"
      },
      "outputs": [
        {
          "name": "stdout",
          "output_type": "stream",
          "text": [
            "<class 'str'>\n",
            "<class 'int'>\n"
          ]
        }
      ],
      "source": [
        "#string to integer\n",
        "a = \"2\"\n",
        "print(type(a))\n",
        "print(type(int(a)))"
      ]
    },
    {
      "cell_type": "code",
      "execution_count": null,
      "id": "9ed100f3-8dee-4724-92ba-5c54c2f17780",
      "metadata": {
        "id": "9ed100f3-8dee-4724-92ba-5c54c2f17780",
        "outputId": "e4425a19-9831-4024-fd78-36d0157651f1"
      },
      "outputs": [
        {
          "data": {
            "text/plain": [
              "float"
            ]
          },
          "execution_count": 15,
          "metadata": {},
          "output_type": "execute_result"
        }
      ],
      "source": [
        "#float to integer\n",
        "a = 3.4\n",
        "type(a)"
      ]
    },
    {
      "cell_type": "code",
      "execution_count": null,
      "id": "ac95a27b-d063-4697-abcb-786de46644ba",
      "metadata": {
        "id": "ac95a27b-d063-4697-abcb-786de46644ba",
        "outputId": "c224e65b-034f-4d66-ee42-b1c6724c0860"
      },
      "outputs": [
        {
          "data": {
            "text/plain": [
              "3.4"
            ]
          },
          "execution_count": 17,
          "metadata": {},
          "output_type": "execute_result"
        }
      ],
      "source": [
        "a"
      ]
    },
    {
      "cell_type": "code",
      "execution_count": null,
      "id": "d50e3326-66bb-46b1-a381-b6393f31722b",
      "metadata": {
        "id": "d50e3326-66bb-46b1-a381-b6393f31722b",
        "outputId": "e9451e0d-6148-4cca-a30b-2257d534a7ac"
      },
      "outputs": [
        {
          "data": {
            "text/plain": [
              "3"
            ]
          },
          "execution_count": 16,
          "metadata": {},
          "output_type": "execute_result"
        }
      ],
      "source": [
        "int(a)"
      ]
    },
    {
      "cell_type": "code",
      "execution_count": null,
      "id": "f21ae68e-4fbe-43d2-be67-3b9eba26aebd",
      "metadata": {
        "id": "f21ae68e-4fbe-43d2-be67-3b9eba26aebd",
        "outputId": "43de9758-6bf7-4dab-a316-b7f40e764d0c"
      },
      "outputs": [
        {
          "data": {
            "text/plain": [
              "int"
            ]
          },
          "execution_count": 19,
          "metadata": {},
          "output_type": "execute_result"
        }
      ],
      "source": [
        "b = 6.78\n",
        "type(b)\n",
        "float_value = int(b)\n",
        "type(float_value)"
      ]
    },
    {
      "cell_type": "code",
      "execution_count": null,
      "id": "9b63c38b-a892-4b16-8a08-115a4d38f1b2",
      "metadata": {
        "id": "9b63c38b-a892-4b16-8a08-115a4d38f1b2",
        "outputId": "f02cf44d-3a0c-4bf5-cc86-f00920ec8af8"
      },
      "outputs": [
        {
          "data": {
            "text/plain": [
              "int"
            ]
          },
          "execution_count": 20,
          "metadata": {},
          "output_type": "execute_result"
        }
      ],
      "source": [
        "#integer to float\n",
        "a = 2\n",
        "type(a)"
      ]
    },
    {
      "cell_type": "code",
      "execution_count": null,
      "id": "b16cebc1-07aa-4cea-a118-f7a84d79269b",
      "metadata": {
        "id": "b16cebc1-07aa-4cea-a118-f7a84d79269b",
        "outputId": "bfd60648-441b-4ece-8ea9-80fe1a3b75db"
      },
      "outputs": [
        {
          "data": {
            "text/plain": [
              "2.0"
            ]
          },
          "execution_count": 21,
          "metadata": {},
          "output_type": "execute_result"
        }
      ],
      "source": [
        "b = float(a)\n",
        "b"
      ]
    },
    {
      "cell_type": "code",
      "execution_count": null,
      "id": "9679bb6f-4a97-416f-8e5f-e4f875367f23",
      "metadata": {
        "id": "9679bb6f-4a97-416f-8e5f-e4f875367f23",
        "outputId": "541018ec-2850-4811-a734-6933d728ac6a"
      },
      "outputs": [
        {
          "data": {
            "text/plain": [
              "float"
            ]
          },
          "execution_count": 22,
          "metadata": {},
          "output_type": "execute_result"
        }
      ],
      "source": [
        "type(b)"
      ]
    },
    {
      "cell_type": "code",
      "execution_count": null,
      "id": "1e403139-3658-4b7a-920c-81503bcf4499",
      "metadata": {
        "id": "1e403139-3658-4b7a-920c-81503bcf4499",
        "outputId": "c11b1bba-8594-4822-d2a9-5691203c9f5a"
      },
      "outputs": [
        {
          "data": {
            "text/plain": [
              "str"
            ]
          },
          "execution_count": 23,
          "metadata": {},
          "output_type": "execute_result"
        }
      ],
      "source": [
        "#string to float\n",
        "a = \"2.3\"\n",
        "type(a)"
      ]
    },
    {
      "cell_type": "code",
      "execution_count": null,
      "id": "2383d4bb-78f6-4ddd-aa8f-906cc8073039",
      "metadata": {
        "id": "2383d4bb-78f6-4ddd-aa8f-906cc8073039",
        "outputId": "22e15bf7-7408-4cd8-f618-5c7d090531af"
      },
      "outputs": [
        {
          "data": {
            "text/plain": [
              "float"
            ]
          },
          "execution_count": 25,
          "metadata": {},
          "output_type": "execute_result"
        }
      ],
      "source": [
        "b = float(a)\n",
        "type(b)"
      ]
    },
    {
      "cell_type": "code",
      "execution_count": null,
      "id": "d1a00ec7-e3d1-4e80-b600-d4c58dfe808a",
      "metadata": {
        "id": "d1a00ec7-e3d1-4e80-b600-d4c58dfe808a",
        "outputId": "20806be2-3ab0-43fd-af4b-cafb91f8358e"
      },
      "outputs": [
        {
          "data": {
            "text/plain": [
              "str"
            ]
          },
          "execution_count": 26,
          "metadata": {},
          "output_type": "execute_result"
        }
      ],
      "source": [
        "a = \"Ajay\" #character cannot be converted into numbers\n",
        "type(a)\n"
      ]
    },
    {
      "cell_type": "code",
      "execution_count": null,
      "id": "47c95329-8da9-4269-b775-3711ae3e106c",
      "metadata": {
        "id": "47c95329-8da9-4269-b775-3711ae3e106c",
        "outputId": "838e1c35-f978-49e8-8c83-ada5e8eecb3d"
      },
      "outputs": [
        {
          "ename": "ValueError",
          "evalue": "invalid literal for int() with base 10: 'Ajay'",
          "output_type": "error",
          "traceback": [
            "\u001b[0;31m---------------------------------------------------------------------------\u001b[0m",
            "\u001b[0;31mValueError\u001b[0m                                Traceback (most recent call last)",
            "Cell \u001b[0;32mIn[27], line 1\u001b[0m\n\u001b[0;32m----> 1\u001b[0m \u001b[38;5;28;43mint\u001b[39;49m\u001b[43m(\u001b[49m\u001b[43ma\u001b[49m\u001b[43m)\u001b[49m\n",
            "\u001b[0;31mValueError\u001b[0m: invalid literal for int() with base 10: 'Ajay'"
          ]
        }
      ],
      "source": [
        "int(a)"
      ]
    },
    {
      "cell_type": "code",
      "execution_count": null,
      "id": "fd38bc28-52e3-45d2-9fbc-f6aa581749e5",
      "metadata": {
        "id": "fd38bc28-52e3-45d2-9fbc-f6aa581749e5",
        "outputId": "a1813272-6ba7-4373-c018-02e73ce4fa8f"
      },
      "outputs": [
        {
          "ename": "ValueError",
          "evalue": "could not convert string to float: 'Ajay'",
          "output_type": "error",
          "traceback": [
            "\u001b[0;31m---------------------------------------------------------------------------\u001b[0m",
            "\u001b[0;31mValueError\u001b[0m                                Traceback (most recent call last)",
            "Cell \u001b[0;32mIn[28], line 1\u001b[0m\n\u001b[0;32m----> 1\u001b[0m \u001b[38;5;28;43mfloat\u001b[39;49m\u001b[43m(\u001b[49m\u001b[43ma\u001b[49m\u001b[43m)\u001b[49m\n",
            "\u001b[0;31mValueError\u001b[0m: could not convert string to float: 'Ajay'"
          ]
        }
      ],
      "source": [
        "float(a)"
      ]
    },
    {
      "cell_type": "code",
      "execution_count": null,
      "id": "8da11009-ee24-4288-b48b-2bef00571f49",
      "metadata": {
        "id": "8da11009-ee24-4288-b48b-2bef00571f49",
        "outputId": "0bf47df6-020c-4e92-fc4d-8a38b5723760"
      },
      "outputs": [
        {
          "data": {
            "text/plain": [
              "int"
            ]
          },
          "execution_count": 29,
          "metadata": {},
          "output_type": "execute_result"
        }
      ],
      "source": [
        "#integer to string\n",
        "a = 5\n",
        "type(a)"
      ]
    },
    {
      "cell_type": "code",
      "execution_count": null,
      "id": "c36cfa7e-d6ab-416f-bb34-8f26a22801af",
      "metadata": {
        "id": "c36cfa7e-d6ab-416f-bb34-8f26a22801af",
        "outputId": "e279f7cc-19d5-43bd-f258-cf060ba26e87"
      },
      "outputs": [
        {
          "data": {
            "text/plain": [
              "5"
            ]
          },
          "execution_count": 30,
          "metadata": {},
          "output_type": "execute_result"
        }
      ],
      "source": [
        "a"
      ]
    },
    {
      "cell_type": "code",
      "execution_count": null,
      "id": "44711a51-a22e-43f0-aa1d-137db90bc4e4",
      "metadata": {
        "id": "44711a51-a22e-43f0-aa1d-137db90bc4e4"
      },
      "outputs": [],
      "source": [
        "c = str(a)"
      ]
    },
    {
      "cell_type": "code",
      "execution_count": null,
      "id": "29dc2431-57a9-4359-891f-c33b032e2033",
      "metadata": {
        "id": "29dc2431-57a9-4359-891f-c33b032e2033",
        "outputId": "18127860-c8e1-4bd2-afcc-aee10c49a701"
      },
      "outputs": [
        {
          "data": {
            "text/plain": [
              "'5'"
            ]
          },
          "execution_count": 33,
          "metadata": {},
          "output_type": "execute_result"
        }
      ],
      "source": [
        "c"
      ]
    },
    {
      "cell_type": "code",
      "execution_count": null,
      "id": "18bccd80-35d0-4f72-97be-cfb0e9dd011e",
      "metadata": {
        "id": "18bccd80-35d0-4f72-97be-cfb0e9dd011e",
        "outputId": "ed8b87e8-cb2f-40ab-eebe-7bf215383426"
      },
      "outputs": [
        {
          "data": {
            "text/plain": [
              "str"
            ]
          },
          "execution_count": 34,
          "metadata": {},
          "output_type": "execute_result"
        }
      ],
      "source": [
        "type(c)"
      ]
    },
    {
      "cell_type": "code",
      "execution_count": null,
      "id": "45ac9217-4656-4b92-a093-436374365cbd",
      "metadata": {
        "id": "45ac9217-4656-4b92-a093-436374365cbd"
      },
      "outputs": [],
      "source": [
        "#Typecasting>> implicit and explicit"
      ]
    },
    {
      "cell_type": "code",
      "execution_count": null,
      "id": "a70c80da-be52-48dc-98a3-58c04a570814",
      "metadata": {
        "id": "a70c80da-be52-48dc-98a3-58c04a570814",
        "outputId": "ca991300-ef1f-4b42-bc89-001b2806f0f4"
      },
      "outputs": [
        {
          "data": {
            "text/plain": [
              "int"
            ]
          },
          "execution_count": 36,
          "metadata": {},
          "output_type": "execute_result"
        }
      ],
      "source": [
        "#implicit typecasting >> python understand the datatype\n",
        "a = 5\n",
        "type(a)"
      ]
    },
    {
      "cell_type": "code",
      "execution_count": null,
      "id": "80c36047-416f-4fd5-b35b-b286651f5c0c",
      "metadata": {
        "id": "80c36047-416f-4fd5-b35b-b286651f5c0c",
        "outputId": "4c748cc1-2eed-42b4-e75a-7407c8ac0018"
      },
      "outputs": [
        {
          "data": {
            "text/plain": [
              "5"
            ]
          },
          "execution_count": 37,
          "metadata": {},
          "output_type": "execute_result"
        }
      ],
      "source": [
        "2+3"
      ]
    },
    {
      "cell_type": "code",
      "execution_count": null,
      "id": "1c752057-5f84-409f-a0bf-3ec3eefab0b0",
      "metadata": {
        "id": "1c752057-5f84-409f-a0bf-3ec3eefab0b0",
        "outputId": "08e837b5-f286-426a-a773-6aff75a322c0"
      },
      "outputs": [
        {
          "data": {
            "text/plain": [
              "5.5"
            ]
          },
          "execution_count": 38,
          "metadata": {},
          "output_type": "execute_result"
        }
      ],
      "source": [
        "2+3.5"
      ]
    },
    {
      "cell_type": "code",
      "execution_count": null,
      "id": "cf3ecf99-e5de-4721-9f5f-7e9a54e6e9ca",
      "metadata": {
        "id": "cf3ecf99-e5de-4721-9f5f-7e9a54e6e9ca",
        "outputId": "1c39bf9e-fddd-498d-be9c-ae6fb13b83bd"
      },
      "outputs": [
        {
          "data": {
            "text/plain": [
              "str"
            ]
          },
          "execution_count": 39,
          "metadata": {},
          "output_type": "execute_result"
        }
      ],
      "source": [
        "#explicit typecasting >> convert data type using inbuilt functiond>> str, int, float, bool\n",
        "a = \"2\"\n",
        "type(a)"
      ]
    },
    {
      "cell_type": "code",
      "execution_count": null,
      "id": "4e485117-7b84-4b05-aa04-dc27b26dedc0",
      "metadata": {
        "id": "4e485117-7b84-4b05-aa04-dc27b26dedc0",
        "outputId": "48719bdc-878e-441a-e1ac-31c44b374454"
      },
      "outputs": [
        {
          "data": {
            "text/plain": [
              "2"
            ]
          },
          "execution_count": 40,
          "metadata": {},
          "output_type": "execute_result"
        }
      ],
      "source": [
        "int(a)"
      ]
    },
    {
      "cell_type": "code",
      "execution_count": null,
      "id": "8a3e8d64-68b2-4e87-bad7-4e169628d1ae",
      "metadata": {
        "id": "8a3e8d64-68b2-4e87-bad7-4e169628d1ae",
        "outputId": "ba516114-f079-4c71-c6fb-222c37eac851"
      },
      "outputs": [
        {
          "data": {
            "text/plain": [
              "2.0"
            ]
          },
          "execution_count": 41,
          "metadata": {},
          "output_type": "execute_result"
        }
      ],
      "source": [
        "float(a)"
      ]
    },
    {
      "cell_type": "code",
      "execution_count": null,
      "id": "120ff8d9-dac1-4413-9503-7bb362e09fee",
      "metadata": {
        "id": "120ff8d9-dac1-4413-9503-7bb362e09fee",
        "outputId": "d1e2ef44-9f2e-42a3-da04-7898022d37b3"
      },
      "outputs": [
        {
          "data": {
            "text/plain": [
              "5"
            ]
          },
          "execution_count": 42,
          "metadata": {},
          "output_type": "execute_result"
        }
      ],
      "source": [
        "2+3"
      ]
    },
    {
      "cell_type": "code",
      "execution_count": null,
      "id": "22bbf252-3508-4532-b2b8-564b9889ed18",
      "metadata": {
        "id": "22bbf252-3508-4532-b2b8-564b9889ed18",
        "outputId": "73f60af9-ffd3-4b67-d91f-46305bb9e5c1"
      },
      "outputs": [
        {
          "ename": "TypeError",
          "evalue": "can only concatenate str (not \"int\") to str",
          "output_type": "error",
          "traceback": [
            "\u001b[0;31m---------------------------------------------------------------------------\u001b[0m",
            "\u001b[0;31mTypeError\u001b[0m                                 Traceback (most recent call last)",
            "Cell \u001b[0;32mIn[44], line 3\u001b[0m\n\u001b[1;32m      1\u001b[0m a \u001b[38;5;241m=\u001b[39m \u001b[38;5;124m\"\u001b[39m\u001b[38;5;124mAjay\u001b[39m\u001b[38;5;124m\"\u001b[39m\n\u001b[1;32m      2\u001b[0m b \u001b[38;5;241m=\u001b[39m \u001b[38;5;241m5\u001b[39m\n\u001b[0;32m----> 3\u001b[0m \u001b[43ma\u001b[49m\u001b[43m \u001b[49m\u001b[38;5;241;43m+\u001b[39;49m\u001b[43m \u001b[49m\u001b[43mb\u001b[49m\n",
            "\u001b[0;31mTypeError\u001b[0m: can only concatenate str (not \"int\") to str"
          ]
        }
      ],
      "source": [
        "a = \"Ajay\"\n",
        "b = 5\n",
        "a + b"
      ]
    },
    {
      "cell_type": "code",
      "execution_count": null,
      "id": "b8356d44-33a5-4969-a916-ee4e180ba4fb",
      "metadata": {
        "id": "b8356d44-33a5-4969-a916-ee4e180ba4fb",
        "outputId": "64a6ae0c-a602-4d36-ed24-926a7eb3f542"
      },
      "outputs": [
        {
          "data": {
            "text/plain": [
              "'Ajay Kumar Gupta'"
            ]
          },
          "execution_count": 45,
          "metadata": {},
          "output_type": "execute_result"
        }
      ],
      "source": [
        "a = \"Ajay\"\n",
        "b = \" Kumar Gupta\"\n",
        "a + b #concatenation of string>> meaning combine the string"
      ]
    },
    {
      "cell_type": "code",
      "execution_count": null,
      "id": "19bce733-d9c9-441e-b888-cb8f6055b99b",
      "metadata": {
        "id": "19bce733-d9c9-441e-b888-cb8f6055b99b",
        "outputId": "24a1e19e-2740-47ad-9bde-701750ffae14"
      },
      "outputs": [
        {
          "data": {
            "text/plain": [
              "'pwskills'"
            ]
          },
          "execution_count": 46,
          "metadata": {},
          "output_type": "execute_result"
        }
      ],
      "source": [
        "\"pw\" + \"skills\""
      ]
    },
    {
      "cell_type": "code",
      "execution_count": null,
      "id": "f3311642-a7cd-4160-87a2-afec0795a862",
      "metadata": {
        "id": "f3311642-a7cd-4160-87a2-afec0795a862",
        "outputId": "053a0dd0-d6f0-4ea6-e6c7-ee583c2e6c3f"
      },
      "outputs": [
        {
          "data": {
            "text/plain": [
              "'100 Ajay'"
            ]
          },
          "execution_count": 47,
          "metadata": {},
          "output_type": "execute_result"
        }
      ],
      "source": [
        "\"100\" + \" Ajay\""
      ]
    },
    {
      "cell_type": "code",
      "execution_count": null,
      "id": "a65e5d77-ee6e-402d-8251-b27bd2fbb2ea",
      "metadata": {
        "id": "a65e5d77-ee6e-402d-8251-b27bd2fbb2ea",
        "outputId": "750411f4-7545-43f2-ee7b-8216df57dd6e"
      },
      "outputs": [
        {
          "data": {
            "text/plain": [
              "False"
            ]
          },
          "execution_count": 48,
          "metadata": {},
          "output_type": "execute_result"
        }
      ],
      "source": [
        "#bool\n",
        "bool(0)"
      ]
    },
    {
      "cell_type": "code",
      "execution_count": null,
      "id": "06006be3-1df1-4e88-bad5-9262a981f33c",
      "metadata": {
        "id": "06006be3-1df1-4e88-bad5-9262a981f33c",
        "outputId": "d2d2629c-a1e3-4879-c988-88b2b62953ee"
      },
      "outputs": [
        {
          "data": {
            "text/plain": [
              "True"
            ]
          },
          "execution_count": 49,
          "metadata": {},
          "output_type": "execute_result"
        }
      ],
      "source": [
        "bool(1)"
      ]
    },
    {
      "cell_type": "code",
      "execution_count": null,
      "id": "476cfe61-a854-4ac4-a52c-5aa0c2b01b46",
      "metadata": {
        "id": "476cfe61-a854-4ac4-a52c-5aa0c2b01b46",
        "outputId": "14ec7adc-db45-4a32-dbac-8dd890d865cf"
      },
      "outputs": [
        {
          "data": {
            "text/plain": [
              "True"
            ]
          },
          "execution_count": 50,
          "metadata": {},
          "output_type": "execute_result"
        }
      ],
      "source": [
        "bool(100)"
      ]
    },
    {
      "cell_type": "code",
      "execution_count": null,
      "id": "015422ce-2c32-4628-8517-bbc2a6bcdad2",
      "metadata": {
        "id": "015422ce-2c32-4628-8517-bbc2a6bcdad2",
        "outputId": "fa57196a-bcd5-4c8a-e965-4ed8a3e233dc"
      },
      "outputs": [
        {
          "data": {
            "text/plain": [
              "True"
            ]
          },
          "execution_count": 51,
          "metadata": {},
          "output_type": "execute_result"
        }
      ],
      "source": [
        "bool(10000)"
      ]
    },
    {
      "cell_type": "code",
      "execution_count": null,
      "id": "c4dac208-5dd2-4878-a45e-b58e76ef4298",
      "metadata": {
        "id": "c4dac208-5dd2-4878-a45e-b58e76ef4298"
      },
      "outputs": [],
      "source": []
    }
  ],
  "metadata": {
    "kernelspec": {
      "display_name": "Python 3 (ipykernel)",
      "language": "python",
      "name": "python3"
    },
    "language_info": {
      "codemirror_mode": {
        "name": "ipython",
        "version": 3
      },
      "file_extension": ".py",
      "mimetype": "text/x-python",
      "name": "python",
      "nbconvert_exporter": "python",
      "pygments_lexer": "ipython3",
      "version": "3.10.8"
    },
    "colab": {
      "provenance": [],
      "include_colab_link": true
    }
  },
  "nbformat": 4,
  "nbformat_minor": 5
}
