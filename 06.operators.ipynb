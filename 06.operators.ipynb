{
  "cells": [
    {
      "cell_type": "markdown",
      "metadata": {
        "id": "view-in-github",
        "colab_type": "text"
      },
      "source": [
        "<a href=\"https://colab.research.google.com/github/BhushanBirari/DS-Python/blob/main/06.operators.ipynb\" target=\"_parent\"><img src=\"https://colab.research.google.com/assets/colab-badge.svg\" alt=\"Open In Colab\"/></a>"
      ]
    },
    {
      "cell_type": "code",
      "execution_count": null,
      "id": "f60fcaec-48df-4c00-8544-c6d7f3cf153e",
      "metadata": {
        "id": "f60fcaec-48df-4c00-8544-c6d7f3cf153e",
        "outputId": "15fc1499-12d1-4bf5-e58d-bf1fdfbd0354"
      },
      "outputs": [
        {
          "data": {
            "text/plain": [
              "7"
            ]
          },
          "execution_count": 1,
          "metadata": {},
          "output_type": "execute_result"
        }
      ],
      "source": [
        "#what is operator>>> special keywords to perform operations\n",
        "#why? To manipualte data\n",
        "\n",
        "\n",
        "#arithmatic operator\n",
        "a = 5\n",
        "b = 2\n",
        "a+b"
      ]
    },
    {
      "cell_type": "code",
      "execution_count": null,
      "id": "16634c45-8344-4f7b-bb13-daaeb6c367b3",
      "metadata": {
        "id": "16634c45-8344-4f7b-bb13-daaeb6c367b3",
        "outputId": "b5e64e06-3c9a-475c-a134-f56e78d80acb"
      },
      "outputs": [
        {
          "name": "stdout",
          "output_type": "stream",
          "text": [
            "7\n"
          ]
        }
      ],
      "source": [
        "add = 5+2\n",
        "print(add)"
      ]
    },
    {
      "cell_type": "code",
      "execution_count": null,
      "id": "55b1c6e2-997e-498e-950a-3282d4fcfebc",
      "metadata": {
        "id": "55b1c6e2-997e-498e-950a-3282d4fcfebc",
        "outputId": "74cad52f-101f-4500-ceec-63bc18ac024c"
      },
      "outputs": [
        {
          "data": {
            "text/plain": [
              "7"
            ]
          },
          "execution_count": 3,
          "metadata": {},
          "output_type": "execute_result"
        }
      ],
      "source": [
        "add"
      ]
    },
    {
      "cell_type": "code",
      "execution_count": null,
      "id": "29408516-8b12-46a3-af9d-305082057282",
      "metadata": {
        "id": "29408516-8b12-46a3-af9d-305082057282",
        "outputId": "f50d7122-663a-4a0e-f971-be42f303ca46"
      },
      "outputs": [
        {
          "data": {
            "text/plain": [
              "7"
            ]
          },
          "execution_count": 4,
          "metadata": {},
          "output_type": "execute_result"
        }
      ],
      "source": [
        "5+2"
      ]
    },
    {
      "cell_type": "code",
      "execution_count": null,
      "id": "cefd1b28-f27f-4487-80ac-7ed74475a580",
      "metadata": {
        "id": "cefd1b28-f27f-4487-80ac-7ed74475a580",
        "outputId": "c6e1be9a-44da-4fd5-dc66-f7b9994c8df8"
      },
      "outputs": [
        {
          "data": {
            "text/plain": [
              "17"
            ]
          },
          "execution_count": 6,
          "metadata": {},
          "output_type": "execute_result"
        }
      ],
      "source": [
        "20 - 3"
      ]
    },
    {
      "cell_type": "code",
      "execution_count": null,
      "id": "c326863a-12a7-4d59-86a9-ff8cad6b47fc",
      "metadata": {
        "id": "c326863a-12a7-4d59-86a9-ff8cad6b47fc",
        "outputId": "2b44b5e0-87a3-40bc-b4c9-ab89cef6a53b"
      },
      "outputs": [
        {
          "data": {
            "text/plain": [
              "12"
            ]
          },
          "execution_count": 7,
          "metadata": {},
          "output_type": "execute_result"
        }
      ],
      "source": [
        "3 * 4"
      ]
    },
    {
      "cell_type": "code",
      "execution_count": null,
      "id": "43e5fc3f-3bac-42e4-9bf3-45bfef30913a",
      "metadata": {
        "id": "43e5fc3f-3bac-42e4-9bf3-45bfef30913a",
        "outputId": "70bbdaaa-d67d-4b03-a915-d601dfd90591"
      },
      "outputs": [
        {
          "data": {
            "text/plain": [
              "5.0"
            ]
          },
          "execution_count": 8,
          "metadata": {},
          "output_type": "execute_result"
        }
      ],
      "source": [
        "20 / 4"
      ]
    },
    {
      "cell_type": "code",
      "execution_count": null,
      "id": "0e44ff5d-c339-48be-a227-d4f5e36b7156",
      "metadata": {
        "id": "0e44ff5d-c339-48be-a227-d4f5e36b7156",
        "outputId": "bd006cd7-8cce-4e44-c38a-5c51574d0af2"
      },
      "outputs": [
        {
          "data": {
            "text/plain": [
              "1"
            ]
          },
          "execution_count": 9,
          "metadata": {},
          "output_type": "execute_result"
        }
      ],
      "source": [
        "#modulus operator\n",
        "17 % 4"
      ]
    },
    {
      "cell_type": "code",
      "execution_count": null,
      "id": "e7697770-aa89-476c-87d3-245286d57a29",
      "metadata": {
        "id": "e7697770-aa89-476c-87d3-245286d57a29",
        "outputId": "fa8ee323-5552-4714-ebe4-5866895fcf4b"
      },
      "outputs": [
        {
          "data": {
            "text/plain": [
              "8"
            ]
          },
          "execution_count": 10,
          "metadata": {},
          "output_type": "execute_result"
        }
      ],
      "source": [
        "2 ** 3 #2*2*2"
      ]
    },
    {
      "cell_type": "code",
      "execution_count": null,
      "id": "54b44207-eb3c-4fa3-926f-45b96b175725",
      "metadata": {
        "id": "54b44207-eb3c-4fa3-926f-45b96b175725",
        "outputId": "b5958eaf-3ceb-4e9b-c6a3-046272ef2528"
      },
      "outputs": [
        {
          "data": {
            "text/plain": [
              "9"
            ]
          },
          "execution_count": 11,
          "metadata": {},
          "output_type": "execute_result"
        }
      ],
      "source": [
        "3 ** 2"
      ]
    },
    {
      "cell_type": "code",
      "execution_count": null,
      "id": "10e7530e-2974-40e0-8d58-49fdc5a543fc",
      "metadata": {
        "id": "10e7530e-2974-40e0-8d58-49fdc5a543fc",
        "outputId": "c2d233d9-3f14-47cf-9e73-95527e11f943"
      },
      "outputs": [
        {
          "data": {
            "text/plain": [
              "1.3333333333333333"
            ]
          },
          "execution_count": 13,
          "metadata": {},
          "output_type": "execute_result"
        }
      ],
      "source": [
        "4/ 3"
      ]
    },
    {
      "cell_type": "code",
      "execution_count": null,
      "id": "ba8384d9-033f-4e38-813b-e1f0d427d5c9",
      "metadata": {
        "id": "ba8384d9-033f-4e38-813b-e1f0d427d5c9",
        "outputId": "94204fcf-3721-4744-c783-4860c9e53a17"
      },
      "outputs": [
        {
          "data": {
            "text/plain": [
              "1"
            ]
          },
          "execution_count": 14,
          "metadata": {},
          "output_type": "execute_result"
        }
      ],
      "source": [
        "4 // 3 #floor operator"
      ]
    },
    {
      "cell_type": "code",
      "execution_count": null,
      "id": "a3d3facf-a742-47e5-a4e9-c60bfaa5575b",
      "metadata": {
        "id": "a3d3facf-a742-47e5-a4e9-c60bfaa5575b"
      },
      "outputs": [],
      "source": [
        "a = 2"
      ]
    },
    {
      "cell_type": "code",
      "execution_count": null,
      "id": "46302d42-a318-457e-968f-d2556d98a1fa",
      "metadata": {
        "id": "46302d42-a318-457e-968f-d2556d98a1fa",
        "outputId": "a255925e-bfe7-4905-f5f8-fda3e09b6344"
      },
      "outputs": [
        {
          "data": {
            "text/plain": [
              "True"
            ]
          },
          "execution_count": 12,
          "metadata": {},
          "output_type": "execute_result"
        }
      ],
      "source": [
        "# Comparison operator >> compare two values>> return a boolean value\n",
        "\n",
        "2 == 2"
      ]
    },
    {
      "cell_type": "code",
      "execution_count": null,
      "id": "aa25d952-a0fe-469e-a38f-85f9243eb230",
      "metadata": {
        "id": "aa25d952-a0fe-469e-a38f-85f9243eb230",
        "outputId": "3a0a0bb7-9c26-4966-a5fd-807e0e50eb11"
      },
      "outputs": [
        {
          "data": {
            "text/plain": [
              "False"
            ]
          },
          "execution_count": 15,
          "metadata": {},
          "output_type": "execute_result"
        }
      ],
      "source": [
        "2 != 2"
      ]
    },
    {
      "cell_type": "code",
      "execution_count": null,
      "id": "7c7d936b-0d5b-497b-bb93-1d130e5b0b3a",
      "metadata": {
        "id": "7c7d936b-0d5b-497b-bb93-1d130e5b0b3a",
        "outputId": "44a5b215-0289-4a8d-edd6-2e9b138e3a4b"
      },
      "outputs": [
        {
          "data": {
            "text/plain": [
              "True"
            ]
          },
          "execution_count": 16,
          "metadata": {},
          "output_type": "execute_result"
        }
      ],
      "source": [
        "5 != 2"
      ]
    },
    {
      "cell_type": "code",
      "execution_count": null,
      "id": "bf3712b8-fae3-4125-8238-4d4449b4c6fc",
      "metadata": {
        "id": "bf3712b8-fae3-4125-8238-4d4449b4c6fc",
        "outputId": "829af888-ab60-449c-8c5b-5620f10fa1a9"
      },
      "outputs": [
        {
          "data": {
            "text/plain": [
              "True"
            ]
          },
          "execution_count": 17,
          "metadata": {},
          "output_type": "execute_result"
        }
      ],
      "source": [
        "10>2"
      ]
    },
    {
      "cell_type": "code",
      "execution_count": null,
      "id": "99b30ecb-a0b1-4fa3-a673-8f13d9f7a944",
      "metadata": {
        "id": "99b30ecb-a0b1-4fa3-a673-8f13d9f7a944",
        "outputId": "fcdb8341-9064-434f-a716-2aacac313240"
      },
      "outputs": [
        {
          "data": {
            "text/plain": [
              "False"
            ]
          },
          "execution_count": 18,
          "metadata": {},
          "output_type": "execute_result"
        }
      ],
      "source": [
        "10 < 5"
      ]
    },
    {
      "cell_type": "code",
      "execution_count": null,
      "id": "dcbf5667-518b-43c6-b660-50dac79a465d",
      "metadata": {
        "id": "dcbf5667-518b-43c6-b660-50dac79a465d",
        "outputId": "78cec622-2ed4-401d-9304-d8bc5a71e3b3"
      },
      "outputs": [
        {
          "data": {
            "text/plain": [
              "True"
            ]
          },
          "execution_count": 19,
          "metadata": {},
          "output_type": "execute_result"
        }
      ],
      "source": [
        "10 >= 10"
      ]
    },
    {
      "cell_type": "code",
      "execution_count": null,
      "id": "270ec988-b30a-4106-981a-9bb50171c512",
      "metadata": {
        "id": "270ec988-b30a-4106-981a-9bb50171c512",
        "outputId": "c4bb2c17-88cb-4da5-cfef-434c3e28e1d9"
      },
      "outputs": [
        {
          "data": {
            "text/plain": [
              "True"
            ]
          },
          "execution_count": 20,
          "metadata": {},
          "output_type": "execute_result"
        }
      ],
      "source": [
        "10 >= 1"
      ]
    },
    {
      "cell_type": "code",
      "execution_count": null,
      "id": "23abba81-6cfb-4ed5-853b-59afc40dc44d",
      "metadata": {
        "id": "23abba81-6cfb-4ed5-853b-59afc40dc44d",
        "outputId": "2197266e-9d40-44f0-b949-b391f5af3ca7"
      },
      "outputs": [
        {
          "data": {
            "text/plain": [
              "True"
            ]
          },
          "execution_count": 21,
          "metadata": {},
          "output_type": "execute_result"
        }
      ],
      "source": [
        "10<=10"
      ]
    },
    {
      "cell_type": "code",
      "execution_count": null,
      "id": "4353246e-664b-4318-a2e5-20055486cf65",
      "metadata": {
        "id": "4353246e-664b-4318-a2e5-20055486cf65",
        "outputId": "7804eafd-6271-4472-b69f-876a4f548c4a"
      },
      "outputs": [
        {
          "data": {
            "text/plain": [
              "True"
            ]
          },
          "execution_count": 22,
          "metadata": {},
          "output_type": "execute_result"
        }
      ],
      "source": [
        "10 <= 12"
      ]
    },
    {
      "cell_type": "code",
      "execution_count": null,
      "id": "f5757305-25b0-46c9-9c76-bfd02fe80104",
      "metadata": {
        "id": "f5757305-25b0-46c9-9c76-bfd02fe80104",
        "outputId": "305b334f-d294-4ecc-e978-1148f9516d06"
      },
      "outputs": [
        {
          "data": {
            "text/plain": [
              "False"
            ]
          },
          "execution_count": 23,
          "metadata": {},
          "output_type": "execute_result"
        }
      ],
      "source": [
        "10 >= 12"
      ]
    },
    {
      "cell_type": "code",
      "execution_count": null,
      "id": "0e592fb1-b667-41bb-8797-15ff2a2d0089",
      "metadata": {
        "id": "0e592fb1-b667-41bb-8797-15ff2a2d0089",
        "outputId": "b788b42c-b849-47dd-cafb-7035100f5966"
      },
      "outputs": [
        {
          "data": {
            "text/plain": [
              "True"
            ]
          },
          "execution_count": 24,
          "metadata": {},
          "output_type": "execute_result"
        }
      ],
      "source": [
        "#Logical operator\n",
        "#and\n",
        "True and True"
      ]
    },
    {
      "cell_type": "code",
      "execution_count": null,
      "id": "c94e7f6a-8ec5-463a-9556-026fdda1ac62",
      "metadata": {
        "id": "c94e7f6a-8ec5-463a-9556-026fdda1ac62",
        "outputId": "8bd19489-768e-44ae-b469-6823a431d8c8"
      },
      "outputs": [
        {
          "data": {
            "text/plain": [
              "False"
            ]
          },
          "execution_count": 26,
          "metadata": {},
          "output_type": "execute_result"
        }
      ],
      "source": [
        "True and False"
      ]
    },
    {
      "cell_type": "code",
      "execution_count": null,
      "id": "2574774c-7c21-406c-9d9a-8d40bcf4f0f7",
      "metadata": {
        "id": "2574774c-7c21-406c-9d9a-8d40bcf4f0f7",
        "outputId": "4ce2ad48-2c42-499c-eefa-f784e7b229ee"
      },
      "outputs": [
        {
          "data": {
            "text/plain": [
              "False"
            ]
          },
          "execution_count": 27,
          "metadata": {},
          "output_type": "execute_result"
        }
      ],
      "source": [
        "False and True"
      ]
    },
    {
      "cell_type": "code",
      "execution_count": null,
      "id": "aaa855ca-ee7b-4bcf-a516-fea964525fc8",
      "metadata": {
        "id": "aaa855ca-ee7b-4bcf-a516-fea964525fc8",
        "outputId": "e640a526-bbf0-4a0b-b282-a395335fd5e4"
      },
      "outputs": [
        {
          "data": {
            "text/plain": [
              "False"
            ]
          },
          "execution_count": 28,
          "metadata": {},
          "output_type": "execute_result"
        }
      ],
      "source": [
        "False and False"
      ]
    },
    {
      "cell_type": "code",
      "execution_count": null,
      "id": "18a85662-47ab-451a-ab8b-61c3807bb26e",
      "metadata": {
        "id": "18a85662-47ab-451a-ab8b-61c3807bb26e",
        "outputId": "f3013001-dd58-4b6e-92fc-c6db376650bc"
      },
      "outputs": [
        {
          "data": {
            "text/plain": [
              "True"
            ]
          },
          "execution_count": 29,
          "metadata": {},
          "output_type": "execute_result"
        }
      ],
      "source": [
        "True or False"
      ]
    },
    {
      "cell_type": "code",
      "execution_count": null,
      "id": "2a04e67b-c153-4d00-9e76-51a49c9fc3b6",
      "metadata": {
        "id": "2a04e67b-c153-4d00-9e76-51a49c9fc3b6",
        "outputId": "1b180d0e-e9b0-4532-8e26-d239ca0627ef"
      },
      "outputs": [
        {
          "data": {
            "text/plain": [
              "True"
            ]
          },
          "execution_count": 30,
          "metadata": {},
          "output_type": "execute_result"
        }
      ],
      "source": [
        "False or True"
      ]
    },
    {
      "cell_type": "code",
      "execution_count": null,
      "id": "53fa8769-225c-4e73-9566-1d7bd1f41ca9",
      "metadata": {
        "id": "53fa8769-225c-4e73-9566-1d7bd1f41ca9",
        "outputId": "c89789c3-0a96-433f-a7f3-5554c7f3574a"
      },
      "outputs": [
        {
          "data": {
            "text/plain": [
              "False"
            ]
          },
          "execution_count": 31,
          "metadata": {},
          "output_type": "execute_result"
        }
      ],
      "source": [
        "#Not operator\n",
        "not True"
      ]
    },
    {
      "cell_type": "code",
      "execution_count": null,
      "id": "e7b9f34e-8420-4e8a-a0fe-bbfa2cde4d54",
      "metadata": {
        "id": "e7b9f34e-8420-4e8a-a0fe-bbfa2cde4d54",
        "outputId": "7381df34-5bf7-4d21-c1c4-d0b7eae81fbf"
      },
      "outputs": [
        {
          "data": {
            "text/plain": [
              "True"
            ]
          },
          "execution_count": 32,
          "metadata": {},
          "output_type": "execute_result"
        }
      ],
      "source": [
        "not False"
      ]
    },
    {
      "cell_type": "code",
      "execution_count": null,
      "id": "ac2abb81-6643-45b1-b20e-1707132a6aa4",
      "metadata": {
        "id": "ac2abb81-6643-45b1-b20e-1707132a6aa4"
      },
      "outputs": [],
      "source": [
        "#Assignment operator\n",
        "\n",
        "a  =10"
      ]
    },
    {
      "cell_type": "code",
      "execution_count": null,
      "id": "62bd5368-43b7-4be0-a5d7-ad1cc2d10708",
      "metadata": {
        "id": "62bd5368-43b7-4be0-a5d7-ad1cc2d10708",
        "outputId": "0d26e647-8008-49b8-dc97-fbbc1b5b5197"
      },
      "outputs": [
        {
          "data": {
            "text/plain": [
              "10"
            ]
          },
          "execution_count": 34,
          "metadata": {},
          "output_type": "execute_result"
        }
      ],
      "source": [
        "a"
      ]
    },
    {
      "cell_type": "code",
      "execution_count": null,
      "id": "6068a196-9853-43fd-855d-42678e9fbda0",
      "metadata": {
        "id": "6068a196-9853-43fd-855d-42678e9fbda0",
        "outputId": "2d41fed0-f0de-4ab8-a872-2e15c78473dc"
      },
      "outputs": [
        {
          "data": {
            "text/plain": [
              "15"
            ]
          },
          "execution_count": 35,
          "metadata": {},
          "output_type": "execute_result"
        }
      ],
      "source": [
        "a + 5"
      ]
    },
    {
      "cell_type": "code",
      "execution_count": null,
      "id": "947fd8ab-5a87-49d5-bc09-9b9c2aa49743",
      "metadata": {
        "id": "947fd8ab-5a87-49d5-bc09-9b9c2aa49743",
        "outputId": "62414bb0-e7f8-4d04-d8e4-b401c2f916c4"
      },
      "outputs": [
        {
          "data": {
            "text/plain": [
              "10"
            ]
          },
          "execution_count": 36,
          "metadata": {},
          "output_type": "execute_result"
        }
      ],
      "source": [
        "a"
      ]
    },
    {
      "cell_type": "code",
      "execution_count": null,
      "id": "58f57888-77d7-4b06-a241-164ceb786373",
      "metadata": {
        "id": "58f57888-77d7-4b06-a241-164ceb786373"
      },
      "outputs": [],
      "source": [
        "a = a + 10"
      ]
    },
    {
      "cell_type": "code",
      "execution_count": null,
      "id": "4ce02a6d-14c4-4203-8fc6-1515275956b2",
      "metadata": {
        "id": "4ce02a6d-14c4-4203-8fc6-1515275956b2",
        "outputId": "06bdbdf7-afbc-4c21-87a2-20c0b25f63c3"
      },
      "outputs": [
        {
          "data": {
            "text/plain": [
              "20"
            ]
          },
          "execution_count": 39,
          "metadata": {},
          "output_type": "execute_result"
        }
      ],
      "source": [
        "a"
      ]
    },
    {
      "cell_type": "code",
      "execution_count": null,
      "id": "39cbc229-218d-4cc1-a43a-9dad4a422050",
      "metadata": {
        "id": "39cbc229-218d-4cc1-a43a-9dad4a422050"
      },
      "outputs": [],
      "source": [
        "a += 5"
      ]
    },
    {
      "cell_type": "code",
      "execution_count": null,
      "id": "a0cac88e-a28b-427f-a685-2ba41993cb86",
      "metadata": {
        "id": "a0cac88e-a28b-427f-a685-2ba41993cb86",
        "outputId": "b8ae3189-d6bd-4530-e3aa-4bdf596ffeac"
      },
      "outputs": [
        {
          "data": {
            "text/plain": [
              "25"
            ]
          },
          "execution_count": 41,
          "metadata": {},
          "output_type": "execute_result"
        }
      ],
      "source": [
        "a"
      ]
    },
    {
      "cell_type": "code",
      "execution_count": null,
      "id": "d9f64c7f-f91f-4f86-94b1-73ec67a358cb",
      "metadata": {
        "id": "d9f64c7f-f91f-4f86-94b1-73ec67a358cb",
        "outputId": "b26d0f65-f194-424f-94f6-435f78329a24"
      },
      "outputs": [
        {
          "data": {
            "text/plain": [
              "25"
            ]
          },
          "execution_count": 42,
          "metadata": {},
          "output_type": "execute_result"
        }
      ],
      "source": [
        "a"
      ]
    },
    {
      "cell_type": "code",
      "execution_count": null,
      "id": "a0f5116a-a518-42f1-b2d0-8eaf38c49494",
      "metadata": {
        "id": "a0f5116a-a518-42f1-b2d0-8eaf38c49494"
      },
      "outputs": [],
      "source": [
        "a *= 2"
      ]
    },
    {
      "cell_type": "code",
      "execution_count": null,
      "id": "8ce2eaff-67fe-488b-a008-9b8f372705aa",
      "metadata": {
        "id": "8ce2eaff-67fe-488b-a008-9b8f372705aa",
        "outputId": "57249ec8-8037-4d78-e28e-c29eacd8ac01"
      },
      "outputs": [
        {
          "data": {
            "text/plain": [
              "50"
            ]
          },
          "execution_count": 45,
          "metadata": {},
          "output_type": "execute_result"
        }
      ],
      "source": [
        "a"
      ]
    },
    {
      "cell_type": "code",
      "execution_count": null,
      "id": "517992cd-b3c2-46ea-9390-13b517368cb4",
      "metadata": {
        "id": "517992cd-b3c2-46ea-9390-13b517368cb4",
        "outputId": "09747bff-9412-423a-d30b-3020abea504b"
      },
      "outputs": [
        {
          "data": {
            "text/plain": [
              "50"
            ]
          },
          "execution_count": 46,
          "metadata": {},
          "output_type": "execute_result"
        }
      ],
      "source": [
        "a"
      ]
    },
    {
      "cell_type": "code",
      "execution_count": null,
      "id": "2e5e5f31-2f38-4b5c-9781-ae1a6978f8d0",
      "metadata": {
        "id": "2e5e5f31-2f38-4b5c-9781-ae1a6978f8d0"
      },
      "outputs": [],
      "source": [
        "a /= 3"
      ]
    },
    {
      "cell_type": "code",
      "execution_count": null,
      "id": "0e97b81f-8cea-406b-a000-73cb0e4f4ace",
      "metadata": {
        "id": "0e97b81f-8cea-406b-a000-73cb0e4f4ace",
        "outputId": "273033e8-5d52-4d20-df16-e6a10d313829"
      },
      "outputs": [
        {
          "data": {
            "text/plain": [
              "16.666666666666668"
            ]
          },
          "execution_count": 48,
          "metadata": {},
          "output_type": "execute_result"
        }
      ],
      "source": [
        "a"
      ]
    },
    {
      "cell_type": "code",
      "execution_count": null,
      "id": "01fec1af-0f17-41d8-a848-34959d0b4127",
      "metadata": {
        "id": "01fec1af-0f17-41d8-a848-34959d0b4127",
        "outputId": "0213e415-e8bf-4ddf-a72f-262f2368042a"
      },
      "outputs": [
        {
          "data": {
            "text/plain": [
              "True"
            ]
          },
          "execution_count": 49,
          "metadata": {},
          "output_type": "execute_result"
        }
      ],
      "source": [
        "#membership operator\n",
        "\n",
        "a = \"PWSKILLS\"\n",
        "\n",
        "\"P\" in a"
      ]
    },
    {
      "cell_type": "code",
      "execution_count": null,
      "id": "9814e966-b9af-499a-bb1b-24f452470c91",
      "metadata": {
        "id": "9814e966-b9af-499a-bb1b-24f452470c91",
        "outputId": "ee7bff1c-7df3-44aa-ca90-f502e0ef940d"
      },
      "outputs": [
        {
          "data": {
            "text/plain": [
              "True"
            ]
          },
          "execution_count": 50,
          "metadata": {},
          "output_type": "execute_result"
        }
      ],
      "source": [
        "\"am\" in \"I am Ajay\""
      ]
    },
    {
      "cell_type": "code",
      "execution_count": null,
      "id": "d078ab19-a34a-43c9-b6b0-f7f11ae56c13",
      "metadata": {
        "id": "d078ab19-a34a-43c9-b6b0-f7f11ae56c13",
        "outputId": "ec43eda7-28b1-4c3c-d99d-92c1ac497648"
      },
      "outputs": [
        {
          "data": {
            "text/plain": [
              "False"
            ]
          },
          "execution_count": 51,
          "metadata": {},
          "output_type": "execute_result"
        }
      ],
      "source": [
        "\"data\" in \"PWSKILLS\""
      ]
    },
    {
      "cell_type": "code",
      "execution_count": null,
      "id": "6e867bd9-42a4-45a9-87b3-4b577c09f838",
      "metadata": {
        "id": "6e867bd9-42a4-45a9-87b3-4b577c09f838",
        "outputId": "d1da3937-0491-4d9b-ab69-c2240a2e98c2"
      },
      "outputs": [
        {
          "data": {
            "text/plain": [
              "True"
            ]
          },
          "execution_count": 52,
          "metadata": {},
          "output_type": "execute_result"
        }
      ],
      "source": [
        "\"data\" not in \"PWSKILLS\""
      ]
    },
    {
      "cell_type": "code",
      "execution_count": null,
      "id": "bf2cca54-a6c7-4e4c-8258-71b43370b972",
      "metadata": {
        "id": "bf2cca54-a6c7-4e4c-8258-71b43370b972"
      },
      "outputs": [],
      "source": [
        "a = [\"data\", \"science\", \"ajay\"]"
      ]
    },
    {
      "cell_type": "code",
      "execution_count": null,
      "id": "6172984f-d0bc-48b0-9650-140dde5047e9",
      "metadata": {
        "id": "6172984f-d0bc-48b0-9650-140dde5047e9",
        "outputId": "3eebd342-260d-4d45-ccb2-86fb17543c4e"
      },
      "outputs": [
        {
          "data": {
            "text/plain": [
              "True"
            ]
          },
          "execution_count": 56,
          "metadata": {},
          "output_type": "execute_result"
        }
      ],
      "source": [
        "\"data\" in a"
      ]
    },
    {
      "cell_type": "code",
      "execution_count": null,
      "id": "c7026d85-0d3c-4768-a0e0-00d8b6d73932",
      "metadata": {
        "id": "c7026d85-0d3c-4768-a0e0-00d8b6d73932"
      },
      "outputs": [],
      "source": [
        "#identity operator >> compare the memory location of two object\n",
        "a = 2"
      ]
    },
    {
      "cell_type": "code",
      "execution_count": null,
      "id": "75bba868-7ba7-4220-82b7-29cae1619bd4",
      "metadata": {
        "id": "75bba868-7ba7-4220-82b7-29cae1619bd4"
      },
      "outputs": [],
      "source": [
        "b = 3"
      ]
    },
    {
      "cell_type": "code",
      "execution_count": null,
      "id": "d9dea15f-2f0f-4a21-a026-ec4c5c0618d4",
      "metadata": {
        "id": "d9dea15f-2f0f-4a21-a026-ec4c5c0618d4",
        "outputId": "e698428a-1218-4d21-c720-c9e8739ebc9d"
      },
      "outputs": [
        {
          "data": {
            "text/plain": [
              "False"
            ]
          },
          "execution_count": 60,
          "metadata": {},
          "output_type": "execute_result"
        }
      ],
      "source": [
        "a is b"
      ]
    },
    {
      "cell_type": "code",
      "execution_count": null,
      "id": "a419312a-e7c3-4357-b28d-8271401933eb",
      "metadata": {
        "id": "a419312a-e7c3-4357-b28d-8271401933eb",
        "outputId": "b6a0885e-ce38-4307-e078-67ebe3c40c39"
      },
      "outputs": [
        {
          "data": {
            "text/plain": [
              "False"
            ]
          },
          "execution_count": 61,
          "metadata": {},
          "output_type": "execute_result"
        }
      ],
      "source": [
        "b is a"
      ]
    },
    {
      "cell_type": "code",
      "execution_count": null,
      "id": "9c57d981-2b9e-4f8f-88aa-73ab63cba092",
      "metadata": {
        "id": "9c57d981-2b9e-4f8f-88aa-73ab63cba092"
      },
      "outputs": [],
      "source": [
        "a = \"Pw Skills\"\n",
        "b=a"
      ]
    },
    {
      "cell_type": "code",
      "execution_count": null,
      "id": "98509834-3ab4-4c05-8691-7532a8dea3cb",
      "metadata": {
        "id": "98509834-3ab4-4c05-8691-7532a8dea3cb",
        "outputId": "386f91c3-7f3f-447a-c2e1-e8714aefdadb"
      },
      "outputs": [
        {
          "data": {
            "text/plain": [
              "True"
            ]
          },
          "execution_count": 63,
          "metadata": {},
          "output_type": "execute_result"
        }
      ],
      "source": [
        "b is a"
      ]
    },
    {
      "cell_type": "code",
      "execution_count": null,
      "id": "d3a673ae-4b2b-435b-987f-79d45f5520b4",
      "metadata": {
        "id": "d3a673ae-4b2b-435b-987f-79d45f5520b4",
        "outputId": "cfd2f507-2007-43fc-ad72-1c0664846e92"
      },
      "outputs": [
        {
          "data": {
            "text/plain": [
              "True"
            ]
          },
          "execution_count": 64,
          "metadata": {},
          "output_type": "execute_result"
        }
      ],
      "source": [
        "a is b"
      ]
    },
    {
      "cell_type": "code",
      "execution_count": null,
      "id": "af08a4ca-6f47-4287-9586-1b65820ba0ef",
      "metadata": {
        "id": "af08a4ca-6f47-4287-9586-1b65820ba0ef",
        "outputId": "165215bb-9abf-4448-c8e8-71ca81a69a6b"
      },
      "outputs": [
        {
          "data": {
            "text/plain": [
              "False"
            ]
          },
          "execution_count": 65,
          "metadata": {},
          "output_type": "execute_result"
        }
      ],
      "source": [
        "a = \"pwskills\"\n",
        "b = \"data\"\n",
        "a is b"
      ]
    },
    {
      "cell_type": "code",
      "execution_count": null,
      "id": "0c8c3d31-18a8-4989-b292-012d69823cd6",
      "metadata": {
        "id": "0c8c3d31-18a8-4989-b292-012d69823cd6",
        "outputId": "2c8e381d-7142-475b-cd91-90004247d779"
      },
      "outputs": [
        {
          "data": {
            "text/plain": [
              "True"
            ]
          },
          "execution_count": 66,
          "metadata": {},
          "output_type": "execute_result"
        }
      ],
      "source": [
        "a is not b"
      ]
    },
    {
      "cell_type": "code",
      "execution_count": null,
      "id": "ea4f41c2-9488-4a59-8ed2-38355c4fd9b9",
      "metadata": {
        "id": "ea4f41c2-9488-4a59-8ed2-38355c4fd9b9",
        "outputId": "b631168e-f667-41d1-916f-eacaff24d5ba"
      },
      "outputs": [
        {
          "data": {
            "text/plain": [
              "10"
            ]
          },
          "execution_count": 129,
          "metadata": {},
          "output_type": "execute_result"
        }
      ],
      "source": [
        "#bitwise operator>> operations at bit level\n",
        "10 & 10"
      ]
    },
    {
      "cell_type": "code",
      "execution_count": null,
      "id": "d8ed5315-d24d-462d-bfdd-eb27c4467b1c",
      "metadata": {
        "id": "d8ed5315-d24d-462d-bfdd-eb27c4467b1c",
        "outputId": "d4bfdf73-c6b7-42f9-af39-1ca519e3bae5"
      },
      "outputs": [
        {
          "data": {
            "text/plain": [
              "2"
            ]
          },
          "execution_count": 130,
          "metadata": {},
          "output_type": "execute_result"
        }
      ],
      "source": [
        "18 & 3"
      ]
    },
    {
      "cell_type": "code",
      "execution_count": null,
      "id": "32ea30b3-d905-4f52-b2d2-360dfe65d2c2",
      "metadata": {
        "id": "32ea30b3-d905-4f52-b2d2-360dfe65d2c2",
        "outputId": "11974100-dca1-4f45-8859-9f14569d35ab"
      },
      "outputs": [
        {
          "data": {
            "text/plain": [
              "'0b1010'"
            ]
          },
          "execution_count": 131,
          "metadata": {},
          "output_type": "execute_result"
        }
      ],
      "source": [
        "bin(10)"
      ]
    },
    {
      "cell_type": "code",
      "execution_count": null,
      "id": "9eb7567c-1733-4b04-97d0-6b1be9a0200f",
      "metadata": {
        "id": "9eb7567c-1733-4b04-97d0-6b1be9a0200f",
        "outputId": "48e88006-9c6a-473e-c8fe-0873c0881de5"
      },
      "outputs": [
        {
          "data": {
            "text/plain": [
              "'0b10010'"
            ]
          },
          "execution_count": 132,
          "metadata": {},
          "output_type": "execute_result"
        }
      ],
      "source": [
        "bin(18)"
      ]
    },
    {
      "cell_type": "code",
      "execution_count": null,
      "id": "a742e38e-2ed6-4853-8edf-71b8eb7008ca",
      "metadata": {
        "id": "a742e38e-2ed6-4853-8edf-71b8eb7008ca",
        "outputId": "d434fc7d-755e-49df-c806-b54e59b588fc"
      },
      "outputs": [
        {
          "data": {
            "text/plain": [
              "'0b11'"
            ]
          },
          "execution_count": 133,
          "metadata": {},
          "output_type": "execute_result"
        }
      ],
      "source": [
        "bin(3)"
      ]
    },
    {
      "cell_type": "code",
      "execution_count": null,
      "id": "0c7393ba-0e08-463e-b598-64d43a5cc0e8",
      "metadata": {
        "id": "0c7393ba-0e08-463e-b598-64d43a5cc0e8",
        "outputId": "10e2d6eb-3d1c-4d41-a11b-242cea20db13"
      },
      "outputs": [
        {
          "data": {
            "text/plain": [
              "'0b10'"
            ]
          },
          "execution_count": 134,
          "metadata": {},
          "output_type": "execute_result"
        }
      ],
      "source": [
        "bin(2)"
      ]
    },
    {
      "cell_type": "code",
      "execution_count": null,
      "id": "c7c75359-d8a6-4fe0-b04e-e5ae02928bb2",
      "metadata": {
        "id": "c7c75359-d8a6-4fe0-b04e-e5ae02928bb2",
        "outputId": "57b524b8-14cf-4f25-a0cc-3c134052efe0"
      },
      "outputs": [
        {
          "data": {
            "text/plain": [
              "7"
            ]
          },
          "execution_count": 135,
          "metadata": {},
          "output_type": "execute_result"
        }
      ],
      "source": [
        "3 | 5"
      ]
    },
    {
      "cell_type": "code",
      "execution_count": null,
      "id": "68f5b818-b861-4b67-bc68-cdc91dafdfb0",
      "metadata": {
        "id": "68f5b818-b861-4b67-bc68-cdc91dafdfb0",
        "outputId": "0f51e455-a279-41e8-d73c-57eafcd529b5"
      },
      "outputs": [
        {
          "data": {
            "text/plain": [
              "'0b11'"
            ]
          },
          "execution_count": 136,
          "metadata": {},
          "output_type": "execute_result"
        }
      ],
      "source": [
        "bin(3)"
      ]
    },
    {
      "cell_type": "code",
      "execution_count": null,
      "id": "7ac2d449-0015-45e9-9ffc-72ca17b77b3a",
      "metadata": {
        "id": "7ac2d449-0015-45e9-9ffc-72ca17b77b3a",
        "outputId": "fc6e1da0-a556-4539-a42d-040aaa50cb4a"
      },
      "outputs": [
        {
          "data": {
            "text/plain": [
              "'0b101'"
            ]
          },
          "execution_count": 137,
          "metadata": {},
          "output_type": "execute_result"
        }
      ],
      "source": [
        "bin(5)"
      ]
    },
    {
      "cell_type": "code",
      "execution_count": null,
      "id": "c4575515-c4bd-4757-802a-0f94d0752e1b",
      "metadata": {
        "id": "c4575515-c4bd-4757-802a-0f94d0752e1b",
        "outputId": "389d82d9-a8e6-4bff-ef03-de636d70c35a"
      },
      "outputs": [
        {
          "data": {
            "text/plain": [
              "-4"
            ]
          },
          "execution_count": 138,
          "metadata": {},
          "output_type": "execute_result"
        }
      ],
      "source": [
        "#negation\n",
        "~3"
      ]
    },
    {
      "cell_type": "code",
      "execution_count": null,
      "id": "79811288-8f22-4a4e-949d-9f8996544b52",
      "metadata": {
        "id": "79811288-8f22-4a4e-949d-9f8996544b52",
        "outputId": "32a3a68d-6d38-427f-d275-8ddca22bcc08"
      },
      "outputs": [
        {
          "data": {
            "text/plain": [
              "-101"
            ]
          },
          "execution_count": 141,
          "metadata": {},
          "output_type": "execute_result"
        }
      ],
      "source": [
        "~100"
      ]
    },
    {
      "cell_type": "code",
      "execution_count": null,
      "id": "8cfceed5-3ec0-4654-9f8b-71f16d765866",
      "metadata": {
        "id": "8cfceed5-3ec0-4654-9f8b-71f16d765866",
        "outputId": "190e6c98-18ad-46bc-96e6-188c8a90ae75"
      },
      "outputs": [
        {
          "data": {
            "text/plain": [
              "-7"
            ]
          },
          "execution_count": 142,
          "metadata": {},
          "output_type": "execute_result"
        }
      ],
      "source": [
        "~6"
      ]
    },
    {
      "cell_type": "code",
      "execution_count": null,
      "id": "dcb02eba-de16-4a7a-b0ce-22fa3d968d45",
      "metadata": {
        "id": "dcb02eba-de16-4a7a-b0ce-22fa3d968d45",
        "outputId": "3433e95f-9ea9-4e7f-b245-c4da2eae6e1a"
      },
      "outputs": [
        {
          "data": {
            "text/plain": [
              "6"
            ]
          },
          "execution_count": 143,
          "metadata": {},
          "output_type": "execute_result"
        }
      ],
      "source": [
        "#Bitwise xor >> return 1 when exactly one operand is 1\n",
        "\n",
        "5 ^ 3"
      ]
    },
    {
      "cell_type": "code",
      "execution_count": null,
      "id": "f1290c2d-6223-4d00-aee0-20424894c4ea",
      "metadata": {
        "id": "f1290c2d-6223-4d00-aee0-20424894c4ea",
        "outputId": "c949287d-7fc0-4614-c9b8-820ba69eb724"
      },
      "outputs": [
        {
          "data": {
            "text/plain": [
              "'0b101'"
            ]
          },
          "execution_count": 144,
          "metadata": {},
          "output_type": "execute_result"
        }
      ],
      "source": [
        "bin(5)"
      ]
    },
    {
      "cell_type": "code",
      "execution_count": null,
      "id": "c90fac8c-5ce4-4db8-8412-fa94ad5f4e3e",
      "metadata": {
        "id": "c90fac8c-5ce4-4db8-8412-fa94ad5f4e3e",
        "outputId": "103cf06c-f9d6-46b9-9ce9-fa0144339902"
      },
      "outputs": [
        {
          "data": {
            "text/plain": [
              "'0b11'"
            ]
          },
          "execution_count": 145,
          "metadata": {},
          "output_type": "execute_result"
        }
      ],
      "source": [
        "bin(3)"
      ]
    },
    {
      "cell_type": "code",
      "execution_count": null,
      "id": "052058d2-c71c-4839-9f21-6cb7e8614655",
      "metadata": {
        "id": "052058d2-c71c-4839-9f21-6cb7e8614655",
        "outputId": "5d482722-d34f-46c6-fa88-c47aacfa7439"
      },
      "outputs": [
        {
          "data": {
            "text/plain": [
              "'0b110'"
            ]
          },
          "execution_count": 146,
          "metadata": {},
          "output_type": "execute_result"
        }
      ],
      "source": [
        "bin(6)"
      ]
    },
    {
      "cell_type": "code",
      "execution_count": null,
      "id": "00b5e555-f752-4c14-b67b-e8032e0c036e",
      "metadata": {
        "id": "00b5e555-f752-4c14-b67b-e8032e0c036e"
      },
      "outputs": [],
      "source": [
        "#shift >> left shift and right shift"
      ]
    },
    {
      "cell_type": "code",
      "execution_count": null,
      "id": "0d3058c9-762a-4686-8dfc-b0ef0fd1f851",
      "metadata": {
        "id": "0d3058c9-762a-4686-8dfc-b0ef0fd1f851",
        "outputId": "22c9b077-1cc9-4637-cd3c-03ca7b80ea71"
      },
      "outputs": [
        {
          "data": {
            "text/plain": [
              "280"
            ]
          },
          "execution_count": 147,
          "metadata": {},
          "output_type": "execute_result"
        }
      ],
      "source": [
        "#left shift put no of zeros on right side\n",
        "\n",
        "35 << 3"
      ]
    },
    {
      "cell_type": "code",
      "execution_count": null,
      "id": "042b0c13-b33c-4488-b6fa-79ed8f6a0b9d",
      "metadata": {
        "id": "042b0c13-b33c-4488-b6fa-79ed8f6a0b9d",
        "outputId": "48064645-8727-478f-b38a-99b4e760bfe4"
      },
      "outputs": [
        {
          "data": {
            "text/plain": [
              "'0b100011'"
            ]
          },
          "execution_count": 148,
          "metadata": {},
          "output_type": "execute_result"
        }
      ],
      "source": [
        "bin(35)"
      ]
    },
    {
      "cell_type": "code",
      "execution_count": null,
      "id": "b714a4ef-71fd-4663-b243-ade9e57a8c46",
      "metadata": {
        "id": "b714a4ef-71fd-4663-b243-ade9e57a8c46",
        "outputId": "dfe496b3-0de4-4bb5-9278-872208820fd0"
      },
      "outputs": [
        {
          "data": {
            "text/plain": [
              "'0b100011000'"
            ]
          },
          "execution_count": 149,
          "metadata": {},
          "output_type": "execute_result"
        }
      ],
      "source": [
        "bin(280)"
      ]
    },
    {
      "cell_type": "code",
      "execution_count": null,
      "id": "3af22b5b-859c-463e-8d46-25abc3ab64d5",
      "metadata": {
        "id": "3af22b5b-859c-463e-8d46-25abc3ab64d5",
        "outputId": "4cd5926b-5625-4f6f-ccc9-63a86e6c1f01"
      },
      "outputs": [
        {
          "data": {
            "text/plain": [
              "10"
            ]
          },
          "execution_count": 150,
          "metadata": {},
          "output_type": "execute_result"
        }
      ],
      "source": [
        "5 << 1"
      ]
    },
    {
      "cell_type": "code",
      "execution_count": null,
      "id": "63c7ff61-df26-44a7-8aa6-00f9b9569717",
      "metadata": {
        "id": "63c7ff61-df26-44a7-8aa6-00f9b9569717",
        "outputId": "c01f1a3f-21f1-4256-c41f-65ca585942ea"
      },
      "outputs": [
        {
          "data": {
            "text/plain": [
              "'0b101'"
            ]
          },
          "execution_count": 151,
          "metadata": {},
          "output_type": "execute_result"
        }
      ],
      "source": [
        "bin(5)"
      ]
    },
    {
      "cell_type": "code",
      "execution_count": null,
      "id": "532c5ad4-e52e-4b3d-a1c2-85170f737dbb",
      "metadata": {
        "id": "532c5ad4-e52e-4b3d-a1c2-85170f737dbb",
        "outputId": "d4f30169-c2ab-4fc4-c32a-ba4b2d10cff9"
      },
      "outputs": [
        {
          "data": {
            "text/plain": [
              "'0b1010'"
            ]
          },
          "execution_count": 152,
          "metadata": {},
          "output_type": "execute_result"
        }
      ],
      "source": [
        "bin(10)"
      ]
    },
    {
      "cell_type": "code",
      "execution_count": null,
      "id": "1d6b7115-93da-4173-b208-c1db57d04180",
      "metadata": {
        "id": "1d6b7115-93da-4173-b208-c1db57d04180",
        "outputId": "c6c10711-0dc5-48d0-bb19-1766ea4f5295"
      },
      "outputs": [
        {
          "data": {
            "text/plain": [
              "35"
            ]
          },
          "execution_count": 154,
          "metadata": {},
          "output_type": "execute_result"
        }
      ],
      "source": [
        "#Right shift operator >> remove the no of elements in the binary\n",
        "280 >> 3"
      ]
    },
    {
      "cell_type": "code",
      "execution_count": null,
      "id": "be6f0de6-8a19-4bc8-8ff9-8cd6fa21cf55",
      "metadata": {
        "id": "be6f0de6-8a19-4bc8-8ff9-8cd6fa21cf55",
        "outputId": "b0f0fb7c-71fd-47b8-d606-968c8ba5a54e"
      },
      "outputs": [
        {
          "data": {
            "text/plain": [
              "'0b100011000'"
            ]
          },
          "execution_count": 155,
          "metadata": {},
          "output_type": "execute_result"
        }
      ],
      "source": [
        "bin(280)"
      ]
    },
    {
      "cell_type": "code",
      "execution_count": null,
      "id": "93216dbb-2970-425d-89b9-2fb2941231a3",
      "metadata": {
        "id": "93216dbb-2970-425d-89b9-2fb2941231a3",
        "outputId": "c3589c1c-8e47-44b4-83ba-55cce357deef"
      },
      "outputs": [
        {
          "data": {
            "text/plain": [
              "'0b100011'"
            ]
          },
          "execution_count": 156,
          "metadata": {},
          "output_type": "execute_result"
        }
      ],
      "source": [
        "bin(35)"
      ]
    },
    {
      "cell_type": "code",
      "execution_count": null,
      "id": "77a1fec1-f88e-48c5-9af1-0bf6ee30c1cc",
      "metadata": {
        "id": "77a1fec1-f88e-48c5-9af1-0bf6ee30c1cc",
        "outputId": "4f4478d1-6674-4a14-fc1b-f3722ace8996"
      },
      "outputs": [
        {
          "data": {
            "text/plain": [
              "5"
            ]
          },
          "execution_count": 157,
          "metadata": {},
          "output_type": "execute_result"
        }
      ],
      "source": [
        "10 >> 1"
      ]
    },
    {
      "cell_type": "code",
      "execution_count": null,
      "id": "9f718d35-041e-41f2-8bcd-5f2a95269240",
      "metadata": {
        "id": "9f718d35-041e-41f2-8bcd-5f2a95269240",
        "outputId": "c257cd76-f5bb-4e0c-d520-0fe097ea70fa"
      },
      "outputs": [
        {
          "data": {
            "text/plain": [
              "'0b1010'"
            ]
          },
          "execution_count": 158,
          "metadata": {},
          "output_type": "execute_result"
        }
      ],
      "source": [
        "bin(10)"
      ]
    },
    {
      "cell_type": "code",
      "execution_count": null,
      "id": "63195d46-9a92-4a06-83ed-56bd7cd72138",
      "metadata": {
        "id": "63195d46-9a92-4a06-83ed-56bd7cd72138",
        "outputId": "ba152dd9-1c91-48dd-f172-26ca4338a056"
      },
      "outputs": [
        {
          "data": {
            "text/plain": [
              "'0b101'"
            ]
          },
          "execution_count": 159,
          "metadata": {},
          "output_type": "execute_result"
        }
      ],
      "source": [
        "bin(5)"
      ]
    },
    {
      "cell_type": "code",
      "execution_count": null,
      "id": "6d83f9ca-c3ef-489c-a5ce-567a85ae5604",
      "metadata": {
        "id": "6d83f9ca-c3ef-489c-a5ce-567a85ae5604",
        "outputId": "99b2d6b8-7732-4cb7-b227-f37f8007c7d5"
      },
      "outputs": [
        {
          "data": {
            "text/plain": [
              "4"
            ]
          },
          "execution_count": 160,
          "metadata": {},
          "output_type": "execute_result"
        }
      ],
      "source": [
        "## order of precedence\n",
        "#execution will start from left\n",
        "2+3-1"
      ]
    },
    {
      "cell_type": "code",
      "execution_count": null,
      "id": "948bdc29-42ff-4c01-9d96-f13da1cec5de",
      "metadata": {
        "id": "948bdc29-42ff-4c01-9d96-f13da1cec5de",
        "outputId": "a588f6eb-d5e8-4535-ca04-39aa985a5ace"
      },
      "outputs": [
        {
          "data": {
            "text/plain": [
              "4"
            ]
          },
          "execution_count": 161,
          "metadata": {},
          "output_type": "execute_result"
        }
      ],
      "source": [
        "#always parenthesis\n",
        "\n",
        "(5+3) - 4"
      ]
    },
    {
      "cell_type": "code",
      "execution_count": null,
      "id": "2119cc8d-8c38-4ad0-a1b7-73f8625c9c5b",
      "metadata": {
        "id": "2119cc8d-8c38-4ad0-a1b7-73f8625c9c5b",
        "outputId": "a427ae65-5bb6-4994-a0d6-f9bff68a35af"
      },
      "outputs": [
        {
          "data": {
            "text/plain": [
              "-4"
            ]
          },
          "execution_count": 162,
          "metadata": {},
          "output_type": "execute_result"
        }
      ],
      "source": [
        "4 - (5+3)"
      ]
    },
    {
      "cell_type": "code",
      "execution_count": null,
      "id": "08f58d4e-29e1-47ff-9ee6-83b12dd1d01a",
      "metadata": {
        "id": "08f58d4e-29e1-47ff-9ee6-83b12dd1d01a",
        "outputId": "6c941145-b7a8-47ac-dbe0-7e38c274bd3b"
      },
      "outputs": [
        {
          "data": {
            "text/plain": [
              "19.0"
            ]
          },
          "execution_count": 163,
          "metadata": {},
          "output_type": "execute_result"
        }
      ],
      "source": [
        "(10+5) + (8/2)"
      ]
    },
    {
      "cell_type": "code",
      "execution_count": null,
      "id": "782f448a-0fb5-4ad9-acd6-e0855cc375c6",
      "metadata": {
        "id": "782f448a-0fb5-4ad9-acd6-e0855cc375c6"
      },
      "outputs": [],
      "source": []
    }
  ],
  "metadata": {
    "kernelspec": {
      "display_name": "Python 3 (ipykernel)",
      "language": "python",
      "name": "python3"
    },
    "language_info": {
      "codemirror_mode": {
        "name": "ipython",
        "version": 3
      },
      "file_extension": ".py",
      "mimetype": "text/x-python",
      "name": "python",
      "nbconvert_exporter": "python",
      "pygments_lexer": "ipython3",
      "version": "3.10.8"
    },
    "colab": {
      "provenance": [],
      "include_colab_link": true
    }
  },
  "nbformat": 4,
  "nbformat_minor": 5
}