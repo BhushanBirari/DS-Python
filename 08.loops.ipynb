{
  "cells": [
    {
      "cell_type": "markdown",
      "metadata": {
        "id": "view-in-github",
        "colab_type": "text"
      },
      "source": [
        "<a href=\"https://colab.research.google.com/github/BhushanBirari/DS-Python/blob/main/08.loops.ipynb\" target=\"_parent\"><img src=\"https://colab.research.google.com/assets/colab-badge.svg\" alt=\"Open In Colab\"/></a>"
      ]
    },
    {
      "cell_type": "code",
      "execution_count": null,
      "id": "ca839afe-52fd-46a3-a520-86ece4f13a39",
      "metadata": {
        "id": "ca839afe-52fd-46a3-a520-86ece4f13a39"
      },
      "outputs": [],
      "source": [
        "#loop statement >> It allows you to execute a block of code repeatedly\n",
        "#loops >> while loop and for loops\n"
      ]
    },
    {
      "cell_type": "code",
      "execution_count": null,
      "id": "2750153f-8691-4199-a4e7-88dcf4d2c40c",
      "metadata": {
        "id": "2750153f-8691-4199-a4e7-88dcf4d2c40c"
      },
      "outputs": [],
      "source": [
        "#while>>repeatedly executed a block of code untill a condition is met"
      ]
    },
    {
      "cell_type": "code",
      "execution_count": null,
      "id": "6b8a81af-0e49-4990-b375-641a0b18f43f",
      "metadata": {
        "id": "6b8a81af-0e49-4990-b375-641a0b18f43f"
      },
      "outputs": [],
      "source": [
        "#syntax\n",
        "#while condition:\n",
        "#  block of code\n",
        "#>> while is a key word used for a while loop"
      ]
    },
    {
      "cell_type": "code",
      "execution_count": null,
      "id": "b4fac71f-0e82-48f3-a01e-5492dd7d6bed",
      "metadata": {
        "id": "b4fac71f-0e82-48f3-a01e-5492dd7d6bed",
        "outputId": "75287302-f3eb-42eb-822c-637c480c67bd"
      },
      "outputs": [
        {
          "name": "stdout",
          "output_type": "stream",
          "text": [
            "1\n",
            "2\n",
            "3\n",
            "4\n",
            "5\n",
            "6\n"
          ]
        }
      ],
      "source": [
        "n = 7\n",
        "i = 1\n",
        "while i < n:\n",
        "    print(i)\n",
        "    i = i+1"
      ]
    },
    {
      "cell_type": "markdown",
      "id": "04361b75-4ad9-4054-bbae-3a2b1fe075ba",
      "metadata": {
        "id": "04361b75-4ad9-4054-bbae-3a2b1fe075ba"
      },
      "source": [
        "![image.png](attachment:97f50340-e01e-4e8c-8ca5-b5d32f71bc82.png)"
      ]
    },
    {
      "cell_type": "code",
      "execution_count": null,
      "id": "9706c11d-52c6-422a-9f7a-794c71f919b0",
      "metadata": {
        "id": "9706c11d-52c6-422a-9f7a-794c71f919b0",
        "outputId": "a523f9ae-373c-4a9b-9502-fc4282e05853"
      },
      "outputs": [
        {
          "name": "stdout",
          "output_type": "stream",
          "text": [
            "5\n",
            "4\n",
            "3\n",
            "2\n",
            "1\n"
          ]
        }
      ],
      "source": [
        "count = 5\n",
        "while count > 0:\n",
        "    print(count)\n",
        "    count = count - 1"
      ]
    },
    {
      "cell_type": "code",
      "execution_count": null,
      "id": "e483e23f-4242-44e3-97c0-6e5946d3d99b",
      "metadata": {
        "id": "e483e23f-4242-44e3-97c0-6e5946d3d99b",
        "outputId": "7b9235d8-b404-46a0-b39b-f5e269e759ca"
      },
      "outputs": [
        {
          "name": "stdout",
          "output_type": "stream",
          "text": [
            "1\n",
            "2\n",
            "3\n",
            "4\n",
            "5\n",
            "6\n",
            "This will be executed when the while is run successfuly without any break\n"
          ]
        }
      ],
      "source": [
        "n = 7\n",
        "i = 1\n",
        "while i < n:\n",
        "    print(i)\n",
        "    i = i+1\n",
        "else:\n",
        "    print(\"This will be executed when the while is run successfuly without any break\")"
      ]
    },
    {
      "cell_type": "code",
      "execution_count": null,
      "id": "4c39b560-8ff9-4250-b492-f65b9ef35d3a",
      "metadata": {
        "id": "4c39b560-8ff9-4250-b492-f65b9ef35d3a",
        "outputId": "22261982-95ae-49bd-fd3d-832214311a21"
      },
      "outputs": [
        {
          "name": "stdout",
          "output_type": "stream",
          "text": [
            "1\n",
            "2\n"
          ]
        }
      ],
      "source": [
        "#break terminates/exits the loop\n",
        "#The condition is met it will break loop\n",
        "n = 7\n",
        "i = 1\n",
        "while i < n:\n",
        "    print(i)\n",
        "    i = i+1\n",
        "    if i == 3:\n",
        "        break\n",
        "else:\n",
        "    print(\"This will be executed when the while is run successfuly without any break\")"
      ]
    },
    {
      "cell_type": "code",
      "execution_count": null,
      "id": "a7bfff9a-7900-4cf4-b845-467ef474a7ca",
      "metadata": {
        "id": "a7bfff9a-7900-4cf4-b845-467ef474a7ca",
        "outputId": "ad02535c-8c4d-4ea4-d233-74a810cbdab8"
      },
      "outputs": [
        {
          "name": "stdout",
          "output_type": "stream",
          "text": [
            "2\n",
            "4\n",
            "5\n",
            "6\n",
            "7\n",
            "This will be executed when the while is run successfuly without any break\n"
          ]
        }
      ],
      "source": [
        "#continue >> skips the iteration\n",
        "\n",
        "n = 7\n",
        "i = 1\n",
        "while i < n:\n",
        "    i = i+1\n",
        "    if i == 3:\n",
        "        continue\n",
        "    print(i)\n",
        "else:\n",
        "    print(\"This will be executed when the while is run successfuly without any break\")"
      ]
    },
    {
      "cell_type": "code",
      "execution_count": null,
      "id": "a8632a6b-f359-472d-b0f0-2bbe8e0241d4",
      "metadata": {
        "id": "a8632a6b-f359-472d-b0f0-2bbe8e0241d4",
        "outputId": "681b23bc-4b49-43cc-b36a-8ebe78fd95c8"
      },
      "outputs": [
        {
          "name": "stdout",
          "output_type": "stream",
          "text": [
            "p\n",
            "w\n",
            "s\n",
            "k\n",
            "i\n",
            "l\n",
            "l\n",
            "s\n"
          ]
        }
      ],
      "source": [
        "#for loops >>iterate over a sequence of elements >> strings, list\n",
        "for i in \"pwskills\":\n",
        "    print(i)"
      ]
    },
    {
      "cell_type": "code",
      "execution_count": null,
      "id": "e471aad0-b172-4754-a153-aadbcfb28b89",
      "metadata": {
        "id": "e471aad0-b172-4754-a153-aadbcfb28b89",
        "outputId": "3657d977-14f4-4397-8282-5b807632b02e"
      },
      "outputs": [
        {
          "name": "stdout",
          "output_type": "stream",
          "text": [
            "p\n",
            "w\n",
            "s\n",
            "k\n",
            "i\n",
            "l\n",
            "l\n",
            "s\n"
          ]
        }
      ],
      "source": [
        "a = \"pwskills\"\n",
        "for i in a:\n",
        "    print(i)"
      ]
    },
    {
      "cell_type": "markdown",
      "id": "b8009f29-7ded-4b4f-be62-1f904df12a97",
      "metadata": {
        "id": "b8009f29-7ded-4b4f-be62-1f904df12a97"
      },
      "source": [
        "![image.png](attachment:fdaa55a4-937a-46e0-b30f-76067657907f.png)"
      ]
    },
    {
      "cell_type": "code",
      "execution_count": null,
      "id": "5e91c51f-fbda-4864-9f9f-50975a4edcdd",
      "metadata": {
        "id": "5e91c51f-fbda-4864-9f9f-50975a4edcdd",
        "outputId": "1319f7c5-9dd9-4a03-b926-db06b0e404be"
      },
      "outputs": [
        {
          "name": "stdout",
          "output_type": "stream",
          "text": [
            "1\n",
            "2\n",
            "Ajay\n",
            "pwskills\n"
          ]
        }
      ],
      "source": [
        "l = [1,2, \"Ajay\", \"pwskills\"]\n",
        "for i in l:\n",
        "    print(i)"
      ]
    },
    {
      "cell_type": "code",
      "execution_count": null,
      "id": "a1d0edfb-217d-49d7-81e6-8893f4458438",
      "metadata": {
        "id": "a1d0edfb-217d-49d7-81e6-8893f4458438",
        "outputId": "2886ee16-68b5-42ae-ec54-45d8bfe5b68e"
      },
      "outputs": [
        {
          "name": "stdout",
          "output_type": "stream",
          "text": [
            "1\n",
            "2\n",
            "Ajay\n",
            "pwskills\n",
            "This will be executed when for loop ends without a break statment\n"
          ]
        }
      ],
      "source": [
        "for i in l:\n",
        "    print(i)\n",
        "else:\n",
        "    print(\"This will be executed when for loop ends without a break statment\")"
      ]
    },
    {
      "cell_type": "code",
      "execution_count": null,
      "id": "a1a5c625-0149-4a47-8e22-a3e96fb2f50c",
      "metadata": {
        "id": "a1a5c625-0149-4a47-8e22-a3e96fb2f50c",
        "outputId": "7512dc4b-3cf7-4730-fff5-becfa27fc64c"
      },
      "outputs": [
        {
          "name": "stdout",
          "output_type": "stream",
          "text": [
            "1\n",
            "2\n"
          ]
        }
      ],
      "source": [
        "#break statement in for loop\n",
        "for i in l:\n",
        "    if i == \"Ajay\":\n",
        "        break\n",
        "    print(i)\n",
        "else:\n",
        "    print(\"This will be executed when for loop ends without a break statment\")"
      ]
    },
    {
      "cell_type": "code",
      "execution_count": null,
      "id": "69fb7579-9124-4b19-b347-a8641dcbb0c8",
      "metadata": {
        "id": "69fb7579-9124-4b19-b347-a8641dcbb0c8",
        "outputId": "20db1dca-dc43-417f-bad4-4ede1ce21b22"
      },
      "outputs": [
        {
          "name": "stdout",
          "output_type": "stream",
          "text": [
            "1\n",
            "2\n",
            "pwskills\n",
            "This will be executed when for loop ends without a break statment\n"
          ]
        }
      ],
      "source": [
        "for i in l:\n",
        "    if i==\"Ajay\":\n",
        "        continue\n",
        "    print(i)\n",
        "else:\n",
        "    print(\"This will be executed when for loop ends without a break statment\")"
      ]
    },
    {
      "cell_type": "code",
      "execution_count": null,
      "id": "7768b178-cf6b-4e56-bf25-eb7bb93fa30f",
      "metadata": {
        "id": "7768b178-cf6b-4e56-bf25-eb7bb93fa30f",
        "outputId": "a1ddae83-5813-4309-b54f-b7693ea78e2b"
      },
      "outputs": [
        {
          "data": {
            "text/plain": [
              "[0, 1, 2, 3, 4, 5, 6, 7, 8, 9]"
            ]
          },
          "execution_count": 16,
          "metadata": {},
          "output_type": "execute_result"
        }
      ],
      "source": [
        "list(range(0, 10)) #it will give value from 0 to 9"
      ]
    },
    {
      "cell_type": "code",
      "execution_count": null,
      "id": "720ae5ec-9188-4a6a-979a-c4f707733fef",
      "metadata": {
        "id": "720ae5ec-9188-4a6a-979a-c4f707733fef",
        "outputId": "7b999de5-a401-446b-c0ed-d57b781813eb"
      },
      "outputs": [
        {
          "name": "stdout",
          "output_type": "stream",
          "text": [
            "0 1 2 3 4 5 6 7 8 9 "
          ]
        }
      ],
      "source": [
        "for i in range(10):\n",
        "    print(i, end=\" \")"
      ]
    },
    {
      "cell_type": "code",
      "execution_count": null,
      "id": "c6256175-731a-4aae-811a-9a2617d3b3c8",
      "metadata": {
        "id": "c6256175-731a-4aae-811a-9a2617d3b3c8"
      },
      "outputs": [],
      "source": [
        "for i in range(10):\n",
        "    print(i, end=\"#\")"
      ]
    },
    {
      "cell_type": "code",
      "execution_count": null,
      "id": "586a9070-4b74-4c07-a170-534a11761ab0",
      "metadata": {
        "id": "586a9070-4b74-4c07-a170-534a11761ab0",
        "outputId": "587966a5-5041-476a-dd92-53fbb8657a71"
      },
      "outputs": [
        {
          "data": {
            "text/plain": [
              "[0, 5, 10, 15, 20, 25, 30, 35, 40, 45, 50, 55, 60, 65, 70, 75, 80, 85, 90, 95]"
            ]
          },
          "execution_count": 26,
          "metadata": {},
          "output_type": "execute_result"
        }
      ],
      "source": [
        "#syntax of range(start, stop, step)\n",
        "list(range(0, 100, 5))"
      ]
    },
    {
      "cell_type": "code",
      "execution_count": null,
      "id": "7de2e8fc-5c5f-456f-b1ce-72808865ae6b",
      "metadata": {
        "id": "7de2e8fc-5c5f-456f-b1ce-72808865ae6b"
      },
      "outputs": [],
      "source": [
        "#problem statment\n",
        "#print a right triangle with *  using while loop"
      ]
    },
    {
      "cell_type": "code",
      "execution_count": null,
      "id": "2e33e53e-d236-4617-a096-a01ff3f82137",
      "metadata": {
        "id": "2e33e53e-d236-4617-a096-a01ff3f82137",
        "outputId": "dac62cc8-6386-445c-99f6-a87a990b7f08"
      },
      "outputs": [
        {
          "name": "stdout",
          "output_type": "stream",
          "text": [
            "*\n",
            "**\n",
            "***\n",
            "****\n"
          ]
        }
      ],
      "source": [
        "row = 1\n",
        "while row <= 4:\n",
        "    col = 1\n",
        "    while col <= row:\n",
        "        print(\"*\", end = \"\")\n",
        "        col = col+1\n",
        "    print()\n",
        "    row = row+1"
      ]
    },
    {
      "cell_type": "code",
      "execution_count": null,
      "id": "6867d45b-b8c1-4c4f-9206-9deda52c4886",
      "metadata": {
        "id": "6867d45b-b8c1-4c4f-9206-9deda52c4886"
      },
      "outputs": [],
      "source": [
        "#print a right triangle with *  using for loop"
      ]
    },
    {
      "cell_type": "code",
      "execution_count": null,
      "id": "03f66ffe-254b-4c42-ae24-24a0c6b4f09e",
      "metadata": {
        "id": "03f66ffe-254b-4c42-ae24-24a0c6b4f09e",
        "outputId": "ec2b74cf-3001-4c15-fa29-6ddc5b2dbc9c"
      },
      "outputs": [
        {
          "name": "stdout",
          "output_type": "stream",
          "text": [
            "*\n",
            "**\n",
            "***\n",
            "****\n"
          ]
        }
      ],
      "source": [
        "for i in range(4):\n",
        "    for j in range(i+1):\n",
        "        print(\"*\", end = \"\")\n",
        "    print()"
      ]
    },
    {
      "cell_type": "code",
      "execution_count": null,
      "id": "3664fd2e-6683-4fee-bb03-0d8d7eb3e450",
      "metadata": {
        "id": "3664fd2e-6683-4fee-bb03-0d8d7eb3e450",
        "outputId": "fdc20fee-a8d0-402e-b185-836f474e8f72"
      },
      "outputs": [
        {
          "name": "stdout",
          "output_type": "stream",
          "text": [
            "* * * \n",
            "* * * \n",
            "* * * \n"
          ]
        }
      ],
      "source": [
        "#internal homework>> square of star\n",
        "# * * *\n",
        "# * * *\n",
        "# * * *\n",
        "\n",
        "#please do the homework, dont see the solution:\n",
        "# Square\n",
        "side = 1\n",
        "while side <= 3:\n",
        "    width = 1\n",
        "    while width <= 3:\n",
        "        print(\"*\", end=\" \")\n",
        "        width += 1\n",
        "    print()\n",
        "    side += 1"
      ]
    },
    {
      "cell_type": "code",
      "execution_count": null,
      "id": "16695382-9fe0-4ede-b43c-cde1cbf09c0f",
      "metadata": {
        "id": "16695382-9fe0-4ede-b43c-cde1cbf09c0f",
        "outputId": "55d15ded-230f-4711-da58-31229c55812f"
      },
      "outputs": [
        {
          "name": "stdout",
          "output_type": "stream",
          "text": [
            "1\n",
            "2\n",
            "4\n",
            "5\n",
            "6\n",
            "8\n",
            "9\n"
          ]
        }
      ],
      "source": [
        "#conditionals with for loops\n",
        "number = [1, 2, 3, 4, 5, 6, 7, 8, 9]\n",
        "for num in number:\n",
        "    if (num == 3) or (num == 7):\n",
        "        continue\n",
        "    print(num)"
      ]
    },
    {
      "cell_type": "code",
      "execution_count": null,
      "id": "92d6026f-f563-4331-903d-ff15d17b2a5b",
      "metadata": {
        "id": "92d6026f-f563-4331-903d-ff15d17b2a5b",
        "outputId": "574690c9-77b9-43a2-f1ca-e275531847bc"
      },
      "outputs": [
        {
          "name": "stdout",
          "output_type": "stream",
          "text": [
            "1\n",
            "2\n"
          ]
        }
      ],
      "source": [
        "number = [1, 2, 3, 4, 5, 6, 7, 8, 9]\n",
        "for num in number:\n",
        "    if (num == 3) or (num == 7):\n",
        "        break\n",
        "    print(num)"
      ]
    },
    {
      "cell_type": "code",
      "execution_count": null,
      "id": "93314063-6377-4fef-ae8b-b5114ca30e69",
      "metadata": {
        "id": "93314063-6377-4fef-ae8b-b5114ca30e69",
        "outputId": "aa16df82-1d28-43f5-d62e-44eb63cddfe6"
      },
      "outputs": [
        {
          "name": "stdout",
          "output_type": "stream",
          "text": [
            "0\n",
            "2\n",
            "4\n",
            "6\n",
            "8\n"
          ]
        }
      ],
      "source": [
        "#print the even no\n",
        "for i in range(10):\n",
        "    if i%2 != 0:\n",
        "        continue\n",
        "    print(i)"
      ]
    },
    {
      "cell_type": "code",
      "execution_count": null,
      "id": "829f1549-6547-4ad0-aa35-dfa96ee0c92f",
      "metadata": {
        "id": "829f1549-6547-4ad0-aa35-dfa96ee0c92f",
        "outputId": "e1698400-45bf-4876-92b0-0dc521fa8fd4"
      },
      "outputs": [
        {
          "name": "stdout",
          "output_type": "stream",
          "text": [
            "1\n",
            "3\n",
            "5\n",
            "7\n",
            "9\n"
          ]
        }
      ],
      "source": [
        "#print the odd no\n",
        "for i in range(10):\n",
        "    if i%2 == 0:\n",
        "        continue\n",
        "    print(i)"
      ]
    },
    {
      "cell_type": "code",
      "execution_count": null,
      "id": "84a8ccd8-9cb9-45e3-912a-568ee3a69fe4",
      "metadata": {
        "id": "84a8ccd8-9cb9-45e3-912a-568ee3a69fe4",
        "outputId": "1c95e89b-6053-459c-d35a-befb32e85084"
      },
      "outputs": [
        {
          "name": "stdout",
          "output_type": "stream",
          "text": [
            "1 * 1 = 1\n",
            "1 * 2 = 2\n",
            "1 * 3 = 3\n",
            "1 * 4 = 4\n",
            "1 * 5 = 5\n",
            "1 * 6 = 6\n",
            "1 * 7 = 7\n",
            "1 * 8 = 8\n",
            "1 * 9 = 9\n",
            "1 * 10 = 10\n",
            "\n",
            "2 * 1 = 2\n",
            "2 * 2 = 4\n",
            "2 * 3 = 6\n",
            "2 * 4 = 8\n",
            "2 * 5 = 10\n",
            "2 * 6 = 12\n",
            "2 * 7 = 14\n",
            "2 * 8 = 16\n",
            "2 * 9 = 18\n",
            "2 * 10 = 20\n",
            "\n",
            "3 * 1 = 3\n",
            "3 * 2 = 6\n",
            "3 * 3 = 9\n",
            "3 * 4 = 12\n",
            "3 * 5 = 15\n",
            "3 * 6 = 18\n",
            "3 * 7 = 21\n",
            "3 * 8 = 24\n",
            "3 * 9 = 27\n",
            "3 * 10 = 30\n",
            "\n",
            "4 * 1 = 4\n",
            "4 * 2 = 8\n",
            "4 * 3 = 12\n",
            "4 * 4 = 16\n",
            "4 * 5 = 20\n",
            "4 * 6 = 24\n",
            "4 * 7 = 28\n",
            "4 * 8 = 32\n",
            "4 * 9 = 36\n",
            "4 * 10 = 40\n",
            "\n",
            "5 * 1 = 5\n",
            "5 * 2 = 10\n",
            "5 * 3 = 15\n",
            "5 * 4 = 20\n",
            "5 * 5 = 25\n",
            "5 * 6 = 30\n",
            "5 * 7 = 35\n",
            "5 * 8 = 40\n",
            "5 * 9 = 45\n",
            "5 * 10 = 50\n",
            "\n"
          ]
        }
      ],
      "source": [
        "#multiplication table\n",
        "for i in range(1, 6):\n",
        "    for j in range(1, 11):\n",
        "        product = i * j\n",
        "        print(f\"{i} * {j} = {product}\")\n",
        "    print()"
      ]
    },
    {
      "cell_type": "code",
      "execution_count": null,
      "id": "8a743d31-0df1-47b8-9fdc-49b53a1ada26",
      "metadata": {
        "id": "8a743d31-0df1-47b8-9fdc-49b53a1ada26",
        "outputId": "6134ef25-d50a-4f6c-f4ef-3f87210fd846"
      },
      "outputs": [
        {
          "name": "stdout",
          "output_type": "stream",
          "text": [
            "Hello world\n"
          ]
        }
      ],
      "source": [
        "print(\"Hello world\")"
      ]
    },
    {
      "cell_type": "code",
      "execution_count": null,
      "id": "83c1660e-e39f-476b-b79c-063a6a208d1a",
      "metadata": {
        "id": "83c1660e-e39f-476b-b79c-063a6a208d1a"
      },
      "outputs": [],
      "source": []
    }
  ],
  "metadata": {
    "kernelspec": {
      "display_name": "Python 3 (ipykernel)",
      "language": "python",
      "name": "python3"
    },
    "language_info": {
      "codemirror_mode": {
        "name": "ipython",
        "version": 3
      },
      "file_extension": ".py",
      "mimetype": "text/x-python",
      "name": "python",
      "nbconvert_exporter": "python",
      "pygments_lexer": "ipython3",
      "version": "3.10.8"
    },
    "colab": {
      "provenance": [],
      "include_colab_link": true
    }
  },
  "nbformat": 4,
  "nbformat_minor": 5
}