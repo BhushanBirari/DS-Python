{
  "cells": [
    {
      "cell_type": "markdown",
      "metadata": {
        "id": "view-in-github",
        "colab_type": "text"
      },
      "source": [
        "<a href=\"https://colab.research.google.com/github/BhushanBirari/DS-Python/blob/main/08.loops.ipynb\" target=\"_parent\"><img src=\"https://colab.research.google.com/assets/colab-badge.svg\" alt=\"Open In Colab\"/></a>"
      ]
    },
    {
      "cell_type": "code",
      "execution_count": null,
      "id": "ca839afe-52fd-46a3-a520-86ece4f13a39",
      "metadata": {
        "id": "ca839afe-52fd-46a3-a520-86ece4f13a39"
      },
      "outputs": [],
      "source": [
        "#loop statement >> It allows you to execute a block of code repeatedly\n",
        "#loops >> while loop and for loops\n"
      ]
    },
    {
      "cell_type": "code",
      "execution_count": null,
      "id": "2750153f-8691-4199-a4e7-88dcf4d2c40c",
      "metadata": {
        "id": "2750153f-8691-4199-a4e7-88dcf4d2c40c"
      },
      "outputs": [],
      "source": [
        "#while>>repeatedly executed a block of code untill a condition is met"
      ]
    },
    {
      "cell_type": "code",
      "execution_count": null,
      "id": "6b8a81af-0e49-4990-b375-641a0b18f43f",
      "metadata": {
        "id": "6b8a81af-0e49-4990-b375-641a0b18f43f"
      },
      "outputs": [],
      "source": [
        "#syntax\n",
        "#while condition:\n",
        "#  block of code\n",
        "#>> while is a key word used for a while loop"
      ]
    },
    {
      "cell_type": "code",
      "execution_count": null,
      "id": "b4fac71f-0e82-48f3-a01e-5492dd7d6bed",
      "metadata": {
        "id": "b4fac71f-0e82-48f3-a01e-5492dd7d6bed",
        "outputId": "31458d25-1060-44a6-d025-b784a7b4364a"
      },
      "outputs": [
        {
          "name": "stdout",
          "output_type": "stream",
          "text": [
            "1\n",
            "2\n",
            "3\n",
            "4\n",
            "5\n",
            "6\n"
          ]
        }
      ],
      "source": [
        "n = 7\n",
        "i = 1\n",
        "while i < n:\n",
        "    print(i)\n",
        "    i = i+1"
      ]
    },
    {
      "cell_type": "code",
      "execution_count": null,
      "id": "9706c11d-52c6-422a-9f7a-794c71f919b0",
      "metadata": {
        "id": "9706c11d-52c6-422a-9f7a-794c71f919b0",
        "outputId": "00c49a27-c857-4d77-a647-ef85d7aa1ebf"
      },
      "outputs": [
        {
          "name": "stdout",
          "output_type": "stream",
          "text": [
            "5\n",
            "4\n",
            "3\n",
            "2\n",
            "1\n"
          ]
        }
      ],
      "source": [
        "count = 5\n",
        "while count > 0:\n",
        "    print(count)\n",
        "    count = count - 1"
      ]
    },
    {
      "cell_type": "code",
      "execution_count": null,
      "id": "e483e23f-4242-44e3-97c0-6e5946d3d99b",
      "metadata": {
        "id": "e483e23f-4242-44e3-97c0-6e5946d3d99b",
        "outputId": "00dc82c4-5121-47e7-ada4-296187ebb2eb"
      },
      "outputs": [
        {
          "name": "stdout",
          "output_type": "stream",
          "text": [
            "1\n",
            "2\n",
            "3\n",
            "4\n",
            "5\n",
            "6\n",
            "This will be executed when the while is run successfuly without any break\n"
          ]
        }
      ],
      "source": [
        "n = 7\n",
        "i = 1\n",
        "while i < n:\n",
        "    print(i)\n",
        "    i = i+1\n",
        "else:\n",
        "    print(\"This will be executed when the while is run successfuly without any break\")"
      ]
    },
    {
      "cell_type": "code",
      "execution_count": null,
      "id": "4c39b560-8ff9-4250-b492-f65b9ef35d3a",
      "metadata": {
        "id": "4c39b560-8ff9-4250-b492-f65b9ef35d3a",
        "outputId": "32f84953-d8f0-42d3-d21c-361ec470a5c2"
      },
      "outputs": [
        {
          "name": "stdout",
          "output_type": "stream",
          "text": [
            "1\n",
            "2\n"
          ]
        }
      ],
      "source": [
        "#break terminates/exits the loop\n",
        "#The condition is met it will break loop\n",
        "n = 7\n",
        "i = 1\n",
        "while i < n:\n",
        "    print(i)\n",
        "    i = i+1\n",
        "    if i == 3:\n",
        "        break\n",
        "else:\n",
        "    print(\"This will be executed when the while is run successfuly without any break\")"
      ]
    },
    {
      "cell_type": "code",
      "execution_count": null,
      "id": "a7bfff9a-7900-4cf4-b845-467ef474a7ca",
      "metadata": {
        "id": "a7bfff9a-7900-4cf4-b845-467ef474a7ca",
        "outputId": "85ff1ddc-df2d-4c8d-9c69-2a56f94d2760"
      },
      "outputs": [
        {
          "name": "stdout",
          "output_type": "stream",
          "text": [
            "2\n",
            "4\n",
            "5\n",
            "6\n",
            "7\n",
            "This will be executed when the while is run successfuly without any break\n"
          ]
        }
      ],
      "source": [
        "#continue >> skips the iteration\n",
        "\n",
        "n = 7\n",
        "i = 1\n",
        "while i < n:\n",
        "    i = i+1\n",
        "    if i == 3:\n",
        "        continue\n",
        "    print(i)\n",
        "else:\n",
        "    print(\"This will be executed when the while is run successfuly without any break\")"
      ]
    },
    {
      "cell_type": "code",
      "execution_count": null,
      "id": "a8632a6b-f359-472d-b0f0-2bbe8e0241d4",
      "metadata": {
        "id": "a8632a6b-f359-472d-b0f0-2bbe8e0241d4",
        "outputId": "05677f03-8299-4233-b18c-7a20e16579ba"
      },
      "outputs": [
        {
          "name": "stdout",
          "output_type": "stream",
          "text": [
            "p\n",
            "w\n",
            "s\n",
            "k\n",
            "i\n",
            "l\n",
            "l\n",
            "s\n"
          ]
        }
      ],
      "source": [
        "#for loops >>iterate over a sequence of elements >> strings, list\n",
        "for i in \"pwskills\":\n",
        "    print(i)"
      ]
    },
    {
      "cell_type": "code",
      "execution_count": null,
      "id": "e471aad0-b172-4754-a153-aadbcfb28b89",
      "metadata": {
        "id": "e471aad0-b172-4754-a153-aadbcfb28b89",
        "outputId": "9bb635b2-5c13-4c93-8846-13e2a653afcf"
      },
      "outputs": [
        {
          "name": "stdout",
          "output_type": "stream",
          "text": [
            "p\n",
            "w\n",
            "s\n",
            "k\n",
            "i\n",
            "l\n",
            "l\n",
            "s\n"
          ]
        }
      ],
      "source": [
        "a = \"pwskills\"\n",
        "for i in a:\n",
        "    print(i)"
      ]
    },
    {
      "cell_type": "code",
      "execution_count": null,
      "id": "5e91c51f-fbda-4864-9f9f-50975a4edcdd",
      "metadata": {
        "id": "5e91c51f-fbda-4864-9f9f-50975a4edcdd",
        "outputId": "601600ef-c1be-499f-f419-7f8de891c9c5"
      },
      "outputs": [
        {
          "name": "stdout",
          "output_type": "stream",
          "text": [
            "1\n",
            "2\n",
            "Ajay\n",
            "pwskills\n"
          ]
        }
      ],
      "source": [
        "l = [1,2, \"Ajay\", \"pwskills\"]\n",
        "for i in l:\n",
        "    print(i)"
      ]
    },
    {
      "cell_type": "code",
      "execution_count": null,
      "id": "a1d0edfb-217d-49d7-81e6-8893f4458438",
      "metadata": {
        "id": "a1d0edfb-217d-49d7-81e6-8893f4458438",
        "outputId": "c873d054-218a-415f-ba99-3fff1abb776c"
      },
      "outputs": [
        {
          "name": "stdout",
          "output_type": "stream",
          "text": [
            "1\n",
            "2\n",
            "Ajay\n",
            "pwskills\n",
            "This will be executed when for loop ends without a break statment\n"
          ]
        }
      ],
      "source": [
        "for i in l:\n",
        "    print(i)\n",
        "else:\n",
        "    print(\"This will be executed when for loop ends without a break statment\")"
      ]
    },
    {
      "cell_type": "code",
      "execution_count": null,
      "id": "a1a5c625-0149-4a47-8e22-a3e96fb2f50c",
      "metadata": {
        "id": "a1a5c625-0149-4a47-8e22-a3e96fb2f50c",
        "outputId": "83a2b1c6-4368-41a1-8576-813fa5e085ac"
      },
      "outputs": [
        {
          "name": "stdout",
          "output_type": "stream",
          "text": [
            "1\n",
            "2\n"
          ]
        }
      ],
      "source": [
        "#break statement in for loop\n",
        "for i in l:\n",
        "    if i == \"Ajay\":\n",
        "        break\n",
        "    print(i)\n",
        "else:\n",
        "    print(\"This will be executed when for loop ends without a break statment\")"
      ]
    },
    {
      "cell_type": "code",
      "execution_count": null,
      "id": "69fb7579-9124-4b19-b347-a8641dcbb0c8",
      "metadata": {
        "id": "69fb7579-9124-4b19-b347-a8641dcbb0c8",
        "outputId": "88ff3dae-ffaa-4d3f-f12f-5ee5fcff5a06"
      },
      "outputs": [
        {
          "name": "stdout",
          "output_type": "stream",
          "text": [
            "1\n",
            "2\n",
            "pwskills\n",
            "This will be executed when for loop ends without a break statment\n"
          ]
        }
      ],
      "source": [
        "for i in l:\n",
        "    if i==\"Ajay\":\n",
        "        continue\n",
        "    print(i)\n",
        "else:\n",
        "    print(\"This will be executed when for loop ends without a break statment\")"
      ]
    },
    {
      "cell_type": "code",
      "execution_count": null,
      "id": "7768b178-cf6b-4e56-bf25-eb7bb93fa30f",
      "metadata": {
        "id": "7768b178-cf6b-4e56-bf25-eb7bb93fa30f",
        "outputId": "3a482531-d29c-4d4d-887b-d02055cec3b0"
      },
      "outputs": [
        {
          "data": {
            "text/plain": [
              "[0, 1, 2, 3, 4, 5, 6, 7, 8, 9]"
            ]
          },
          "execution_count": 16,
          "metadata": {},
          "output_type": "execute_result"
        }
      ],
      "source": [
        "list(range(0, 10)) #it will give value from 0 to 9"
      ]
    },
    {
      "cell_type": "code",
      "execution_count": null,
      "id": "720ae5ec-9188-4a6a-979a-c4f707733fef",
      "metadata": {
        "id": "720ae5ec-9188-4a6a-979a-c4f707733fef",
        "outputId": "2fc0626a-30b9-4d8f-99a9-d52d2d8120c7"
      },
      "outputs": [
        {
          "name": "stdout",
          "output_type": "stream",
          "text": [
            "0 1 2 3 4 5 6 7 8 9 "
          ]
        }
      ],
      "source": [
        "for i in range(10):\n",
        "    print(i, end=\" \")"
      ]
    },
    {
      "cell_type": "code",
      "execution_count": null,
      "id": "c6256175-731a-4aae-811a-9a2617d3b3c8",
      "metadata": {
        "id": "c6256175-731a-4aae-811a-9a2617d3b3c8"
      },
      "outputs": [],
      "source": [
        "for i in range(10):\n",
        "    print(i, end=\"#\")"
      ]
    },
    {
      "cell_type": "code",
      "execution_count": null,
      "id": "586a9070-4b74-4c07-a170-534a11761ab0",
      "metadata": {
        "id": "586a9070-4b74-4c07-a170-534a11761ab0",
        "outputId": "5c960af4-d690-40eb-911a-05a7b4845ac1"
      },
      "outputs": [
        {
          "data": {
            "text/plain": [
              "[0, 5, 10, 15, 20, 25, 30, 35, 40, 45, 50, 55, 60, 65, 70, 75, 80, 85, 90, 95]"
            ]
          },
          "execution_count": 26,
          "metadata": {},
          "output_type": "execute_result"
        }
      ],
      "source": [
        "#syntax of range(start, stop, step)\n",
        "list(range(0, 100, 5))"
      ]
    },
    {
      "cell_type": "code",
      "execution_count": null,
      "id": "7de2e8fc-5c5f-456f-b1ce-72808865ae6b",
      "metadata": {
        "id": "7de2e8fc-5c5f-456f-b1ce-72808865ae6b"
      },
      "outputs": [],
      "source": [
        "#problem statment\n",
        "#print a right triangle with *  using while loop"
      ]
    },
    {
      "cell_type": "code",
      "execution_count": null,
      "id": "2e33e53e-d236-4617-a096-a01ff3f82137",
      "metadata": {
        "id": "2e33e53e-d236-4617-a096-a01ff3f82137",
        "outputId": "350b093b-43c6-4f16-dfd6-2ec4671b909b"
      },
      "outputs": [
        {
          "name": "stdout",
          "output_type": "stream",
          "text": [
            "*\n",
            "**\n",
            "***\n",
            "****\n"
          ]
        }
      ],
      "source": [
        "row = 1\n",
        "while row <= 4:\n",
        "    col = 1\n",
        "    while col <= row:\n",
        "        print(\"*\", end = \"\")\n",
        "        col = col+1\n",
        "    print()\n",
        "    row = row+1"
      ]
    },
    {
      "cell_type": "code",
      "execution_count": null,
      "id": "6867d45b-b8c1-4c4f-9206-9deda52c4886",
      "metadata": {
        "id": "6867d45b-b8c1-4c4f-9206-9deda52c4886"
      },
      "outputs": [],
      "source": [
        "#print a right triangle with *  using for loop"
      ]
    },
    {
      "cell_type": "code",
      "execution_count": null,
      "id": "03f66ffe-254b-4c42-ae24-24a0c6b4f09e",
      "metadata": {
        "id": "03f66ffe-254b-4c42-ae24-24a0c6b4f09e",
        "outputId": "247aee0f-438c-4aa8-f956-e69cad25122b"
      },
      "outputs": [
        {
          "name": "stdout",
          "output_type": "stream",
          "text": [
            "*\n",
            "**\n",
            "***\n",
            "****\n"
          ]
        }
      ],
      "source": [
        "for i in range(4):\n",
        "    for j in range(i+1):\n",
        "        print(\"*\", end = \"\")\n",
        "    print()"
      ]
    },
    {
      "cell_type": "code",
      "execution_count": null,
      "id": "3664fd2e-6683-4fee-bb03-0d8d7eb3e450",
      "metadata": {
        "id": "3664fd2e-6683-4fee-bb03-0d8d7eb3e450",
        "outputId": "ee297890-0c9d-4aa7-b8b8-fdce94701879"
      },
      "outputs": [
        {
          "name": "stdout",
          "output_type": "stream",
          "text": [
            "* * * \n",
            "* * * \n",
            "* * * \n"
          ]
        }
      ],
      "source": [
        "#internal homework>> square of star\n",
        "# * * *\n",
        "# * * *\n",
        "# * * *\n",
        "\n",
        "#please do the homework, dont see the solution:\n",
        "# Square\n",
        "side = 1\n",
        "while side <= 3:\n",
        "    width = 1\n",
        "    while width <= 3:\n",
        "        print(\"*\", end=\" \")\n",
        "        width += 1\n",
        "    print()\n",
        "    side += 1"
      ]
    },
    {
      "cell_type": "code",
      "execution_count": null,
      "id": "16695382-9fe0-4ede-b43c-cde1cbf09c0f",
      "metadata": {
        "id": "16695382-9fe0-4ede-b43c-cde1cbf09c0f",
        "outputId": "c24f2197-f40b-482f-fa96-c88cfe6b9270"
      },
      "outputs": [
        {
          "name": "stdout",
          "output_type": "stream",
          "text": [
            "1\n",
            "2\n",
            "4\n",
            "5\n",
            "6\n",
            "8\n",
            "9\n"
          ]
        }
      ],
      "source": [
        "#conditionals with for loops\n",
        "number = [1, 2, 3, 4, 5, 6, 7, 8, 9]\n",
        "for num in number:\n",
        "    if (num == 3) or (num == 7):\n",
        "        continue\n",
        "    print(num)"
      ]
    },
    {
      "cell_type": "code",
      "execution_count": null,
      "id": "92d6026f-f563-4331-903d-ff15d17b2a5b",
      "metadata": {
        "id": "92d6026f-f563-4331-903d-ff15d17b2a5b",
        "outputId": "32cd1e67-bc0f-4534-aa13-5555af86df77"
      },
      "outputs": [
        {
          "name": "stdout",
          "output_type": "stream",
          "text": [
            "1\n",
            "2\n"
          ]
        }
      ],
      "source": [
        "number = [1, 2, 3, 4, 5, 6, 7, 8, 9]\n",
        "for num in number:\n",
        "    if (num == 3) or (num == 7):\n",
        "        break\n",
        "    print(num)"
      ]
    },
    {
      "cell_type": "code",
      "execution_count": null,
      "id": "93314063-6377-4fef-ae8b-b5114ca30e69",
      "metadata": {
        "id": "93314063-6377-4fef-ae8b-b5114ca30e69",
        "outputId": "0a0a0ccf-0828-429a-9d49-fcbf898e1178"
      },
      "outputs": [
        {
          "name": "stdout",
          "output_type": "stream",
          "text": [
            "0\n",
            "2\n",
            "4\n",
            "6\n",
            "8\n"
          ]
        }
      ],
      "source": [
        "#print the even no\n",
        "for i in range(10):\n",
        "    if i%2 != 0:\n",
        "        continue\n",
        "    print(i)"
      ]
    },
    {
      "cell_type": "code",
      "execution_count": null,
      "id": "829f1549-6547-4ad0-aa35-dfa96ee0c92f",
      "metadata": {
        "id": "829f1549-6547-4ad0-aa35-dfa96ee0c92f",
        "outputId": "70117fc7-386c-4062-ffce-96c59a317265"
      },
      "outputs": [
        {
          "name": "stdout",
          "output_type": "stream",
          "text": [
            "1\n",
            "3\n",
            "5\n",
            "7\n",
            "9\n"
          ]
        }
      ],
      "source": [
        "#print the odd no\n",
        "for i in range(10):\n",
        "    if i%2 == 0:\n",
        "        continue\n",
        "    print(i)"
      ]
    },
    {
      "cell_type": "code",
      "execution_count": null,
      "id": "84a8ccd8-9cb9-45e3-912a-568ee3a69fe4",
      "metadata": {
        "id": "84a8ccd8-9cb9-45e3-912a-568ee3a69fe4",
        "outputId": "379af998-400f-45a8-bb86-7e7d984f9c3a"
      },
      "outputs": [
        {
          "name": "stdout",
          "output_type": "stream",
          "text": [
            "1 * 1 = 1\n",
            "1 * 2 = 2\n",
            "1 * 3 = 3\n",
            "1 * 4 = 4\n",
            "1 * 5 = 5\n",
            "1 * 6 = 6\n",
            "1 * 7 = 7\n",
            "1 * 8 = 8\n",
            "1 * 9 = 9\n",
            "1 * 10 = 10\n",
            "\n",
            "2 * 1 = 2\n",
            "2 * 2 = 4\n",
            "2 * 3 = 6\n",
            "2 * 4 = 8\n",
            "2 * 5 = 10\n",
            "2 * 6 = 12\n",
            "2 * 7 = 14\n",
            "2 * 8 = 16\n",
            "2 * 9 = 18\n",
            "2 * 10 = 20\n",
            "\n",
            "3 * 1 = 3\n",
            "3 * 2 = 6\n",
            "3 * 3 = 9\n",
            "3 * 4 = 12\n",
            "3 * 5 = 15\n",
            "3 * 6 = 18\n",
            "3 * 7 = 21\n",
            "3 * 8 = 24\n",
            "3 * 9 = 27\n",
            "3 * 10 = 30\n",
            "\n",
            "4 * 1 = 4\n",
            "4 * 2 = 8\n",
            "4 * 3 = 12\n",
            "4 * 4 = 16\n",
            "4 * 5 = 20\n",
            "4 * 6 = 24\n",
            "4 * 7 = 28\n",
            "4 * 8 = 32\n",
            "4 * 9 = 36\n",
            "4 * 10 = 40\n",
            "\n",
            "5 * 1 = 5\n",
            "5 * 2 = 10\n",
            "5 * 3 = 15\n",
            "5 * 4 = 20\n",
            "5 * 5 = 25\n",
            "5 * 6 = 30\n",
            "5 * 7 = 35\n",
            "5 * 8 = 40\n",
            "5 * 9 = 45\n",
            "5 * 10 = 50\n",
            "\n"
          ]
        }
      ],
      "source": [
        "#multiplication table\n",
        "for i in range(1, 6):\n",
        "    for j in range(1, 11):\n",
        "        product = i * j\n",
        "        print(f\"{i} * {j} = {product}\")\n",
        "    print()"
      ]
    },
    {
      "cell_type": "code",
      "execution_count": null,
      "id": "8a743d31-0df1-47b8-9fdc-49b53a1ada26",
      "metadata": {
        "id": "8a743d31-0df1-47b8-9fdc-49b53a1ada26",
        "outputId": "50313087-acad-4497-a2f3-f35429ae8022"
      },
      "outputs": [
        {
          "name": "stdout",
          "output_type": "stream",
          "text": [
            "Hello world\n"
          ]
        }
      ],
      "source": [
        "print(\"Hello world\")"
      ]
    },
    {
      "cell_type": "code",
      "execution_count": null,
      "id": "83c1660e-e39f-476b-b79c-063a6a208d1a",
      "metadata": {
        "id": "83c1660e-e39f-476b-b79c-063a6a208d1a"
      },
      "outputs": [],
      "source": []
    }
  ],
  "metadata": {
    "kernelspec": {
      "display_name": "Python 3 (ipykernel)",
      "language": "python",
      "name": "python3"
    },
    "language_info": {
      "codemirror_mode": {
        "name": "ipython",
        "version": 3
      },
      "file_extension": ".py",
      "mimetype": "text/x-python",
      "name": "python",
      "nbconvert_exporter": "python",
      "pygments_lexer": "ipython3",
      "version": "3.10.8"
    },
    "colab": {
      "provenance": [],
      "include_colab_link": true
    }
  },
  "nbformat": 4,
  "nbformat_minor": 5
}