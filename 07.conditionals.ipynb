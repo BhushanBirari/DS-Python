{
  "cells": [
    {
      "cell_type": "markdown",
      "metadata": {
        "id": "view-in-github",
        "colab_type": "text"
      },
      "source": [
        "<a href=\"https://colab.research.google.com/github/BhushanBirari/DS-Python/blob/main/07.conditionals.ipynb\" target=\"_parent\"><img src=\"https://colab.research.google.com/assets/colab-badge.svg\" alt=\"Open In Colab\"/></a>"
      ]
    },
    {
      "cell_type": "markdown",
      "id": "d0668cab-6742-4fac-9a67-fa458aa40cc7",
      "metadata": {
        "id": "d0668cab-6742-4fac-9a67-fa458aa40cc7"
      },
      "source": [
        "Flow control in Python refers to the mechanisms that govern the order in which statements and instructions are executed. This is crucial for implementing logic in your programs.\n",
        "\n",
        "![image.png](attachment:36275611-113b-4088-bbc4-8c80b76a3b5a.png)"
      ]
    },
    {
      "cell_type": "code",
      "execution_count": null,
      "id": "a2112970-6fdf-4cf5-b798-5e613b9e8f97",
      "metadata": {
        "id": "a2112970-6fdf-4cf5-b798-5e613b9e8f97"
      },
      "outputs": [],
      "source": [
        "#conditional >>  i will play cricket when the weather is sunny\n",
        "#loop statement >>  I will keep checking out dishes untill all the dishes are over in a buffet\n",
        "#break statment>> I will check out all the dishes untill I get Pasta"
      ]
    },
    {
      "cell_type": "code",
      "execution_count": null,
      "id": "5a01b909-a4a2-4b0c-a164-8c3da5da60da",
      "metadata": {
        "id": "5a01b909-a4a2-4b0c-a164-8c3da5da60da"
      },
      "outputs": [],
      "source": [
        "#Conditional statements >> helps you to code decisions based on some preconditions\n",
        "#if\n",
        "#if else\n",
        "#if elif(elseif) else\n",
        "#nested if else"
      ]
    },
    {
      "cell_type": "code",
      "execution_count": null,
      "id": "96bb6aac-51ea-4de4-941a-1f4b76c37157",
      "metadata": {
        "id": "96bb6aac-51ea-4de4-941a-1f4b76c37157"
      },
      "outputs": [],
      "source": [
        "#if statements\n",
        "#syntax\n",
        "# if condition True:\n",
        "#     block of code will be executed"
      ]
    },
    {
      "cell_type": "code",
      "execution_count": null,
      "id": "e7d7c39a-697b-496b-a205-d8aeb75c389f",
      "metadata": {
        "id": "e7d7c39a-697b-496b-a205-d8aeb75c389f",
        "outputId": "d9cd97ed-a5a8-4112-b9e0-d0badbaa0fc6"
      },
      "outputs": [
        {
          "data": {
            "text/plain": [
              "False"
            ]
          },
          "execution_count": 1,
          "metadata": {},
          "output_type": "execute_result"
        }
      ],
      "source": [
        "3>4"
      ]
    },
    {
      "cell_type": "code",
      "execution_count": null,
      "id": "9e414c90-1960-4ef4-9326-f858f68ed516",
      "metadata": {
        "id": "9e414c90-1960-4ef4-9326-f858f68ed516",
        "outputId": "f431f096-0b1a-4984-bd42-0ac1359a61bb"
      },
      "outputs": [
        {
          "data": {
            "text/plain": [
              "True"
            ]
          },
          "execution_count": 2,
          "metadata": {},
          "output_type": "execute_result"
        }
      ],
      "source": [
        "1<2"
      ]
    },
    {
      "cell_type": "code",
      "execution_count": null,
      "id": "77abe429-7e7a-4660-96d3-becfd7c858d3",
      "metadata": {
        "id": "77abe429-7e7a-4660-96d3-becfd7c858d3",
        "outputId": "5abb2092-432b-47a6-e068-8c5bca60a611"
      },
      "outputs": [
        {
          "name": "stdout",
          "output_type": "stream",
          "text": [
            "The number is grater than 0.\n"
          ]
        }
      ],
      "source": [
        "a = 100\n",
        "if a > 0: #execute the if bock, if the condition is True\n",
        "    print(\"The number is grater than 0.\")"
      ]
    },
    {
      "cell_type": "code",
      "execution_count": null,
      "id": "5169505c-7217-4f65-a0d7-ca0b99eea18d",
      "metadata": {
        "id": "5169505c-7217-4f65-a0d7-ca0b99eea18d"
      },
      "outputs": [],
      "source": [
        "a = 100\n",
        "if a < 0: #execute the if bock/body of it, if the condition is True\n",
        "    print(\"The number is grater than 0.\")"
      ]
    },
    {
      "cell_type": "code",
      "execution_count": null,
      "id": "c3c7b06a-0e3d-49b3-9011-e1200f56d441",
      "metadata": {
        "id": "c3c7b06a-0e3d-49b3-9011-e1200f56d441",
        "outputId": "50ec140c-81df-41e8-ac38-8e904f22c54f"
      },
      "outputs": [
        {
          "name": "stdout",
          "output_type": "stream",
          "text": [
            "I will not play cricket\n"
          ]
        }
      ],
      "source": [
        "weather = \"rainy\"\n",
        "if weather == \"rainy\":\n",
        "    print(\"I will not play cricket\")"
      ]
    },
    {
      "cell_type": "code",
      "execution_count": null,
      "id": "37e6d043-2d74-451b-84ef-4c2c3b75b316",
      "metadata": {
        "id": "37e6d043-2d74-451b-84ef-4c2c3b75b316"
      },
      "outputs": [],
      "source": [
        "weather = \"sunny\"\n",
        "if weather == \"rainy\":\n",
        "    print(\"I will not play cricket\")"
      ]
    },
    {
      "cell_type": "code",
      "execution_count": null,
      "id": "7fb105b0-57f5-4449-a5cd-ec6201c8fe34",
      "metadata": {
        "id": "7fb105b0-57f5-4449-a5cd-ec6201c8fe34",
        "outputId": "35c96ae5-9885-405c-9996-810ffa83a673"
      },
      "outputs": [
        {
          "ename": "IndentationError",
          "evalue": "expected an indented block after 'if' statement on line 2 (4080013804.py, line 3)",
          "output_type": "error",
          "traceback": [
            "\u001b[0;36m  Cell \u001b[0;32mIn[7], line 3\u001b[0;36m\u001b[0m\n\u001b[0;31m    print(\"I will not play cricket\") #indentation is necessary\u001b[0m\n\u001b[0m    ^\u001b[0m\n\u001b[0;31mIndentationError\u001b[0m\u001b[0;31m:\u001b[0m expected an indented block after 'if' statement on line 2\n"
          ]
        }
      ],
      "source": [
        "weather = \"sunny\"\n",
        "if weather == \"rainy\":\n",
        "print(\"I will not play cricket\") #indentation is necessary"
      ]
    },
    {
      "cell_type": "markdown",
      "id": "d5141e73-17a3-4269-ba32-6ee2c5678e28",
      "metadata": {
        "id": "d5141e73-17a3-4269-ba32-6ee2c5678e28"
      },
      "source": [
        "![image.png](attachment:fdf4dcc5-52c9-41c9-91ee-33a764f51271.png)"
      ]
    },
    {
      "cell_type": "code",
      "execution_count": null,
      "id": "bdf6772d-7638-4901-8c3e-9f62ab6531d3",
      "metadata": {
        "id": "bdf6772d-7638-4901-8c3e-9f62ab6531d3",
        "outputId": "3635d44a-cd74-4bb3-8613-cb34f3c305e8"
      },
      "outputs": [
        {
          "name": "stdout",
          "output_type": "stream",
          "text": [
            "room temp\n"
          ]
        }
      ],
      "source": [
        "temp = 30\n",
        "if temp>25:\n",
        "    print(\"room temp\")"
      ]
    },
    {
      "cell_type": "code",
      "execution_count": null,
      "id": "f71a948e-58a4-45e5-95c0-4ec9e36bfeac",
      "metadata": {
        "id": "f71a948e-58a4-45e5-95c0-4ec9e36bfeac",
        "outputId": "a31810ec-ba07-476e-d3ca-ad0c17a0ecb5"
      },
      "outputs": [
        {
          "name": "stdout",
          "output_type": "stream",
          "text": [
            "I am studying the course\n"
          ]
        }
      ],
      "source": [
        "is_ds_course = True\n",
        "if is_ds_course:\n",
        "    print(\"I am studying the course\")"
      ]
    },
    {
      "cell_type": "code",
      "execution_count": null,
      "id": "01618e1e-20b8-4a84-b815-7d2013e90f23",
      "metadata": {
        "id": "01618e1e-20b8-4a84-b815-7d2013e90f23",
        "outputId": "81016971-ad9d-4442-d8f7-2ae18435cccb"
      },
      "outputs": [
        {
          "name": "stdout",
          "output_type": "stream",
          "text": [
            "You are excellent\n"
          ]
        }
      ],
      "source": [
        "grade = 8\n",
        "if grade >=8:\n",
        "    print(\"You are excellent\")"
      ]
    },
    {
      "cell_type": "code",
      "execution_count": null,
      "id": "a348b451-8d42-4381-9b8a-4b66db2b2046",
      "metadata": {
        "id": "a348b451-8d42-4381-9b8a-4b66db2b2046",
        "outputId": "b94fb492-b22a-43e7-81c6-c5b25bdbe5bb"
      },
      "outputs": [
        {
          "name": "stdout",
          "output_type": "stream",
          "text": [
            "The number is even\n"
          ]
        }
      ],
      "source": [
        "number = 42\n",
        "if number % 2 == 0:\n",
        "    print(\"The number is even\")"
      ]
    },
    {
      "cell_type": "code",
      "execution_count": null,
      "id": "065471d0-b248-4bd7-a195-5756e39853b3",
      "metadata": {
        "id": "065471d0-b248-4bd7-a195-5756e39853b3",
        "outputId": "eb2e9f37-cd9b-4e62-9242-44aad6cb6fd7"
      },
      "outputs": [
        {
          "name": "stdout",
          "output_type": "stream",
          "text": [
            "This is the number of interest\n"
          ]
        }
      ],
      "source": [
        "#in real life, decisions are made based on multiple conditions\n",
        "\n",
        "number = 42\n",
        "if ((number % 2 == 0) & (number > 0)):\n",
        "    print(\"This is the number of interest\")"
      ]
    },
    {
      "cell_type": "code",
      "execution_count": null,
      "id": "34c58f09-31ea-4bc3-9302-b0c877b934c2",
      "metadata": {
        "id": "34c58f09-31ea-4bc3-9302-b0c877b934c2",
        "outputId": "e655ce18-0ad2-44c4-f9b0-0ff3a5a58559"
      },
      "outputs": [
        {
          "name": "stdout",
          "output_type": "stream",
          "text": [
            "You are all rounder\n"
          ]
        }
      ],
      "source": [
        "grade = 8\n",
        "co_cirr = True\n",
        "if ((grade >=8) and (co_cirr == True)):\n",
        "    print(\"You are all rounder\")"
      ]
    },
    {
      "cell_type": "code",
      "execution_count": null,
      "id": "8fa98b83-bafb-4dfd-9864-231ea05adcd9",
      "metadata": {
        "id": "8fa98b83-bafb-4dfd-9864-231ea05adcd9"
      },
      "outputs": [],
      "source": [
        "#in real life if one condition is not fulfilled, you will do something else\n",
        "#example:: if weather is not rainy, i will go to play cricket else I will watch TV"
      ]
    },
    {
      "cell_type": "code",
      "execution_count": null,
      "id": "6639c78f-805a-48b1-af95-a65e837d1492",
      "metadata": {
        "id": "6639c78f-805a-48b1-af95-a65e837d1492",
        "outputId": "2c9a6390-5222-4990-ad26-aff5d9fe679e"
      },
      "outputs": [
        {
          "name": "stdout",
          "output_type": "stream",
          "text": [
            "I will watch TV\n"
          ]
        }
      ],
      "source": [
        "#if else >> execute the if block when the condition is true else execute else block\n",
        "weather = \"sunny\"\n",
        "if weather == \"sunny\": #condition is true, execute if block\n",
        "    print(\"I will play cricket\")\n",
        "else:#condition is not true, else block will be executed\n",
        "    print(\"I will watch TV\")"
      ]
    },
    {
      "cell_type": "markdown",
      "id": "446fc2a4-66ab-4452-8017-6f4ef29c3a1f",
      "metadata": {
        "id": "446fc2a4-66ab-4452-8017-6f4ef29c3a1f"
      },
      "source": [
        "![image.png](attachment:47afad44-02f1-4249-bbea-3eb339eb56fe.png)"
      ]
    },
    {
      "cell_type": "code",
      "execution_count": null,
      "id": "a376549a-76eb-431d-9321-fd14e12f86ff",
      "metadata": {
        "id": "a376549a-76eb-431d-9321-fd14e12f86ff",
        "outputId": "c08eeb79-7247-4145-ccc1-008a758a8ffd"
      },
      "outputs": [
        {
          "name": "stdout",
          "output_type": "stream",
          "text": [
            "get out of the bar\n"
          ]
        }
      ],
      "source": [
        "age = 17\n",
        "if age >= 18:\n",
        "    print(\"You will be served alcohal\")\n",
        "else:\n",
        "    print(\"get out of the bar\")"
      ]
    },
    {
      "cell_type": "code",
      "execution_count": null,
      "id": "c61664e9-f257-4dcb-8c8c-71558b5a5ecd",
      "metadata": {
        "id": "c61664e9-f257-4dcb-8c8c-71558b5a5ecd",
        "outputId": "d98513e1-0218-42a3-bc11-152894efc414"
      },
      "outputs": [
        {
          "name": "stdout",
          "output_type": "stream",
          "text": [
            "dont drive\n"
          ]
        }
      ],
      "source": [
        "age = 12\n",
        "if age >= 18:\n",
        "    print(\"Please have a driving license and drive\")\n",
        "else:\n",
        "    print(\"dont drive\")"
      ]
    },
    {
      "cell_type": "code",
      "execution_count": null,
      "id": "031823f3-d887-440c-9887-ad2eb1a395be",
      "metadata": {
        "id": "031823f3-d887-440c-9887-ad2eb1a395be",
        "outputId": "e2a5aab7-2cf4-4219-acb9-e5ee42e7cd32"
      },
      "outputs": [
        {
          "name": "stdout",
          "output_type": "stream",
          "text": [
            "I am playing cricket\n"
          ]
        }
      ],
      "source": [
        "is_dscourse = False\n",
        "if is_dscourse:\n",
        "    print(\"I am studying\")\n",
        "else:\n",
        "    print(\"I am playing cricket\")"
      ]
    },
    {
      "cell_type": "code",
      "execution_count": null,
      "id": "aa84a64f-caff-4a12-9407-95aa03858940",
      "metadata": {
        "id": "aa84a64f-caff-4a12-9407-95aa03858940",
        "outputId": "65545c8d-f6be-4426-fc5b-80a95e68c40f"
      },
      "outputs": [
        {
          "name": "stdout",
          "output_type": "stream",
          "text": [
            "x is greater than 5\n"
          ]
        }
      ],
      "source": [
        "x = 16\n",
        "if x > 5:\n",
        "    print(\"x is greater than 5\")\n",
        "else:\n",
        "    print(\"The no is less than 5\")"
      ]
    },
    {
      "cell_type": "code",
      "execution_count": null,
      "id": "34f8aefc-af05-46d5-80e3-fdb8b0425023",
      "metadata": {
        "id": "34f8aefc-af05-46d5-80e3-fdb8b0425023",
        "outputId": "539dc66a-ef3a-466d-bd1b-2cbb66241bfb"
      },
      "outputs": [
        {
          "data": {
            "text/plain": [
              "0"
            ]
          },
          "execution_count": 27,
          "metadata": {},
          "output_type": "execute_result"
        }
      ],
      "source": [
        "#to check if a no is even\n",
        "6 % 2"
      ]
    },
    {
      "cell_type": "code",
      "execution_count": null,
      "id": "c0820e2d-c126-45cf-8a21-1e07ef9b0cb3",
      "metadata": {
        "id": "c0820e2d-c126-45cf-8a21-1e07ef9b0cb3",
        "outputId": "cf41ad69-a4a8-4f02-f526-3bc6e18bd9fa"
      },
      "outputs": [
        {
          "name": "stdout",
          "output_type": "stream",
          "text": [
            "even\n"
          ]
        }
      ],
      "source": [
        "num = 4\n",
        "if num % 2 == 0:\n",
        "    print(\"even\")\n",
        "else:\n",
        "    print(\"odd\")"
      ]
    },
    {
      "cell_type": "code",
      "execution_count": null,
      "id": "7ec0d6ae-b5ab-4aae-843f-90db4040bc19",
      "metadata": {
        "id": "7ec0d6ae-b5ab-4aae-843f-90db4040bc19",
        "outputId": "fc067664-7cf8-4a22-cf62-ae62b1ca1b95"
      },
      "outputs": [
        {
          "name": "stdout",
          "output_type": "stream",
          "text": [
            "repeat the class\n"
          ]
        }
      ],
      "source": [
        "score = 30\n",
        "if score >= 33:\n",
        "    print(\"You are passed\")\n",
        "else:\n",
        "    print(\"repeat the class\")"
      ]
    },
    {
      "cell_type": "code",
      "execution_count": null,
      "id": "55624ae0-7cfd-4633-9664-8bdfc9ff2298",
      "metadata": {
        "id": "55624ae0-7cfd-4633-9664-8bdfc9ff2298"
      },
      "outputs": [],
      "source": [
        "#if else >> two condition\n",
        "#in real life we can have multiple condition\n",
        "#syntax\n",
        "#if some condition\n",
        "#elif some condition\n",
        "#else"
      ]
    },
    {
      "cell_type": "code",
      "execution_count": null,
      "id": "2651a0f5-ca41-45dc-b08a-5512458c25fa",
      "metadata": {
        "id": "2651a0f5-ca41-45dc-b08a-5512458c25fa",
        "outputId": "3fd5c4e0-233b-4386-da9a-fc47e89a4bde"
      },
      "outputs": [
        {
          "name": "stdout",
          "output_type": "stream",
          "text": [
            "The number is equals to 100\n"
          ]
        }
      ],
      "source": [
        "a = 100\n",
        "if a > 100:\n",
        "    print(\"This block will be executed if a is greater than 100\")\n",
        "elif a < 100:\n",
        "    print(\"This block will be executed if a is lesser than 100\")\n",
        "else:\n",
        "    print(\"The number is equals to 100\")"
      ]
    },
    {
      "cell_type": "code",
      "execution_count": null,
      "id": "b66c68f0-ec8e-4187-b21d-86d563c034fe",
      "metadata": {
        "id": "b66c68f0-ec8e-4187-b21d-86d563c034fe",
        "outputId": "881b0fe5-b057-4f01-a14e-aed3cf17b25a"
      },
      "outputs": [
        {
          "name": "stdout",
          "output_type": "stream",
          "text": [
            "The number is huge\n"
          ]
        }
      ],
      "source": [
        "a = 100000\n",
        "\n",
        "if a < 100:\n",
        "    print(\"This block will be executed if a is lesser than 100\")\n",
        "elif a > 2000:\n",
        "    print(\"The number is huge\")\n",
        "elif a > 100:\n",
        "    print(\"This block will be executed if a is greater than 100\")\n",
        "else:\n",
        "    print(\"The number is equals to 100\")"
      ]
    },
    {
      "cell_type": "code",
      "execution_count": null,
      "id": "18c88d2a-84b4-4996-a0c3-a8fdc8f20c0a",
      "metadata": {
        "id": "18c88d2a-84b4-4996-a0c3-a8fdc8f20c0a",
        "outputId": "428ea448-7d16-4431-88ff-fd48c30daa91"
      },
      "outputs": [
        {
          "name": "stdout",
          "output_type": "stream",
          "text": [
            "Grade C\n"
          ]
        }
      ],
      "source": [
        "score = 75\n",
        "if score >= 90:\n",
        "    print(\"grade A\")\n",
        "elif (80<=score<90):\n",
        "    print(\"Grade B\")\n",
        "elif (70<=score<80):\n",
        "    print(\"Grade C\")\n",
        "else:\n",
        "    print(\"Grade D\")"
      ]
    },
    {
      "cell_type": "code",
      "execution_count": null,
      "id": "74159ec9-23bd-4326-9296-c85625e572f2",
      "metadata": {
        "id": "74159ec9-23bd-4326-9296-c85625e572f2",
        "outputId": "7bf67b42-249c-4a60-d2ef-14c6ecf5f58e"
      },
      "outputs": [
        {
          "name": "stdout",
          "output_type": "stream",
          "text": [
            "You are senior citizen\n"
          ]
        }
      ],
      "source": [
        "age = 80\n",
        "if age < 18:\n",
        "    print(\"You are minority\")\n",
        "elif 18<age<=65:\n",
        "    print(\"Yo are adult\")\n",
        "else:\n",
        "    print(\"You are senior citizen\")"
      ]
    },
    {
      "cell_type": "code",
      "execution_count": null,
      "id": "c53be4d6-7c68-4f8c-a76e-1b813cee5efa",
      "metadata": {
        "id": "c53be4d6-7c68-4f8c-a76e-1b813cee5efa",
        "outputId": "6919763d-c24a-4cd3-9558-72e9f76e2c06"
      },
      "outputs": [
        {
          "name": "stdout",
          "output_type": "stream",
          "text": [
            "Both x and y is greater than 5\n"
          ]
        }
      ],
      "source": [
        "#nested if else >> you can have multiple if else inside if else\n",
        "x = 7\n",
        "y = 6\n",
        "if x > 5:\n",
        "    if y>5:\n",
        "        print(\"Both x and y is greater than 5\")\n",
        "    else:\n",
        "        print(\"x is greater than 5 but y is less than 5\")\n",
        "else:\n",
        "    print(\"x is not greater than 5\")"
      ]
    },
    {
      "cell_type": "code",
      "execution_count": null,
      "id": "7075a856-0e86-4746-8755-0d7010c13809",
      "metadata": {
        "id": "7075a856-0e86-4746-8755-0d7010c13809",
        "outputId": "70af9d57-2a85-4d32-c766-496a44a538b3"
      },
      "outputs": [
        {
          "name": "stdout",
          "output_type": "stream",
          "text": [
            "You are not a vip customer and will be charged a regular price\n"
          ]
        }
      ],
      "source": [
        "is_vip = False\n",
        "age = 15\n",
        "if is_vip:\n",
        "    if age >=18:\n",
        "        if age < 65:\n",
        "            print(\"welcome to vip customer\")\n",
        "        else:\n",
        "            print(\"You are vip and very imp. YOu are eligible for senior citizen discount\")\n",
        "    else:\n",
        "        print(\"Vip staus is only for adult\")\n",
        "else:\n",
        "    print(\"You are not a vip customer and will be charged a regular price\")"
      ]
    },
    {
      "cell_type": "code",
      "execution_count": null,
      "id": "4e5d22a8-25c9-47e8-a91a-c6bfc05d1f67",
      "metadata": {
        "id": "4e5d22a8-25c9-47e8-a91a-c6bfc05d1f67",
        "outputId": "5928ee5e-42f0-4f11-846a-1d5df46a4d6d"
      },
      "outputs": [
        {
          "name": "stdin",
          "output_type": "stream",
          "text": [
            "Enter a no 4\n"
          ]
        },
        {
          "name": "stdout",
          "output_type": "stream",
          "text": [
            "The no is 4\n"
          ]
        }
      ],
      "source": [
        "a = input(\"Enter a no\") #by default input treats everything as string\n",
        "print(\"The no is\", a)"
      ]
    },
    {
      "cell_type": "code",
      "execution_count": null,
      "id": "9c55aabd-a65d-4975-b6a4-7c1c63213e07",
      "metadata": {
        "id": "9c55aabd-a65d-4975-b6a4-7c1c63213e07",
        "outputId": "af0915e0-088f-4128-c46f-62f1afb5afa4"
      },
      "outputs": [
        {
          "data": {
            "text/plain": [
              "str"
            ]
          },
          "execution_count": 54,
          "metadata": {},
          "output_type": "execute_result"
        }
      ],
      "source": [
        "type(a)"
      ]
    },
    {
      "cell_type": "code",
      "execution_count": null,
      "id": "ddb22a05-92e8-4d7f-bc43-c300ff29c304",
      "metadata": {
        "id": "ddb22a05-92e8-4d7f-bc43-c300ff29c304",
        "outputId": "7b7ed5ed-2878-47a7-d0f2-78c7406d17be"
      },
      "outputs": [
        {
          "name": "stdin",
          "output_type": "stream",
          "text": [
            "Enter a no 3\n"
          ]
        },
        {
          "data": {
            "text/plain": [
              "3"
            ]
          },
          "execution_count": 55,
          "metadata": {},
          "output_type": "execute_result"
        }
      ],
      "source": [
        "a = int(input(\"Enter a no\"))\n",
        "a"
      ]
    },
    {
      "cell_type": "code",
      "execution_count": null,
      "id": "030cec44-69db-4640-8747-ec0deee81cae",
      "metadata": {
        "id": "030cec44-69db-4640-8747-ec0deee81cae",
        "outputId": "26d45bd8-33e1-4d60-ae47-3929f192c5d0"
      },
      "outputs": [
        {
          "data": {
            "text/plain": [
              "int"
            ]
          },
          "execution_count": 56,
          "metadata": {},
          "output_type": "execute_result"
        }
      ],
      "source": [
        "type(a)"
      ]
    },
    {
      "cell_type": "code",
      "execution_count": null,
      "id": "140491b9-ce9c-4e68-9c86-b9c29948a0d9",
      "metadata": {
        "id": "140491b9-ce9c-4e68-9c86-b9c29948a0d9",
        "outputId": "019ab05e-09d9-452b-c443-6bbd19935e03"
      },
      "outputs": [
        {
          "name": "stdin",
          "output_type": "stream",
          "text": [
            "Enter a no 800\n"
          ]
        },
        {
          "name": "stdout",
          "output_type": "stream",
          "text": [
            "The no is greater than 100\n"
          ]
        }
      ],
      "source": [
        "a = int(input(\"Enter a no\"))\n",
        "if a >= 100:\n",
        "    print(\"The no is greater than 100\")\n",
        "elif 0<=a<100:\n",
        "    print(\"The no is greater than 0 and less than 100\")\n",
        "else:\n",
        "    print(\"This is a negative no\")"
      ]
    },
    {
      "cell_type": "code",
      "execution_count": null,
      "id": "ba3c30ef-8c13-4b37-85ba-b9d0a20af8f5",
      "metadata": {
        "id": "ba3c30ef-8c13-4b37-85ba-b9d0a20af8f5",
        "outputId": "f391875c-3996-42fa-bb1b-22e7af411897"
      },
      "outputs": [
        {
          "data": {
            "text/plain": [
              "4"
            ]
          },
          "execution_count": 59,
          "metadata": {},
          "output_type": "execute_result"
        }
      ],
      "source": [
        "len(\"Ajay\")"
      ]
    },
    {
      "cell_type": "code",
      "execution_count": null,
      "id": "caa946b0-ce89-404c-a198-cce2a868503f",
      "metadata": {
        "id": "caa946b0-ce89-404c-a198-cce2a868503f",
        "outputId": "475ca41d-3e65-4161-ada2-bba0a2454c74"
      },
      "outputs": [
        {
          "name": "stdin",
          "output_type": "stream",
          "text": [
            "Please enter your name ajay\n",
            "Please enter your email aj@gmail.com\n",
            "Please eneter your password ahgjaghd\n"
          ]
        },
        {
          "name": "stdout",
          "output_type": "stream",
          "text": [
            "Login/registration is successfull\n"
          ]
        }
      ],
      "source": [
        "name = input(\"Please enter your name\")\n",
        "email = input(\"Please enter your email\")\n",
        "password = input(\"Please eneter your password\")\n",
        "\n",
        "if name == \"\":\n",
        "    print(\"Please enter a valid name, can not be empty\")\n",
        "else:\n",
        "    if \"@\" not in email:\n",
        "        print(\"Please enter a valid email\")\n",
        "    else:\n",
        "        if len(password) < 0:\n",
        "            print(\"No password entered, pls provide a valid password\")\n",
        "        else:\n",
        "            print(\"Login/registration is successfull\")"
      ]
    },
    {
      "cell_type": "code",
      "execution_count": null,
      "id": "b6d82187-cf16-4f36-86b0-4a4740182376",
      "metadata": {
        "id": "b6d82187-cf16-4f36-86b0-4a4740182376"
      },
      "outputs": [],
      "source": []
    }
  ],
  "metadata": {
    "kernelspec": {
      "display_name": "Python 3 (ipykernel)",
      "language": "python",
      "name": "python3"
    },
    "language_info": {
      "codemirror_mode": {
        "name": "ipython",
        "version": 3
      },
      "file_extension": ".py",
      "mimetype": "text/x-python",
      "name": "python",
      "nbconvert_exporter": "python",
      "pygments_lexer": "ipython3",
      "version": "3.10.8"
    },
    "colab": {
      "provenance": [],
      "include_colab_link": true
    }
  },
  "nbformat": 4,
  "nbformat_minor": 5
}