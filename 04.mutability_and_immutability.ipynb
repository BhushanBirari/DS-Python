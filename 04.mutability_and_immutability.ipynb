{
  "cells": [
    {
      "cell_type": "markdown",
      "metadata": {
        "id": "view-in-github",
        "colab_type": "text"
      },
      "source": [
        "<a href=\"https://colab.research.google.com/github/BhushanBirari/DS-Python/blob/main/04.3_mutability_and_immutability.ipynb\" target=\"_parent\"><img src=\"https://colab.research.google.com/assets/colab-badge.svg\" alt=\"Open In Colab\"/></a>"
      ]
    },
    {
      "cell_type": "code",
      "execution_count": null,
      "id": "4d119c34-f456-4024-8406-7eb0b2fefaf3",
      "metadata": {
        "id": "4d119c34-f456-4024-8406-7eb0b2fefaf3"
      },
      "outputs": [],
      "source": [
        "a = 6"
      ]
    },
    {
      "cell_type": "code",
      "execution_count": null,
      "id": "352cadd5-30f8-45c8-b33a-a9a4410278a9",
      "metadata": {
        "id": "352cadd5-30f8-45c8-b33a-a9a4410278a9",
        "outputId": "0f68baac-fce9-4195-fbc7-3d3e7bb88478"
      },
      "outputs": [
        {
          "data": {
            "text/plain": [
              "6"
            ]
          },
          "execution_count": 2,
          "metadata": {},
          "output_type": "execute_result"
        }
      ],
      "source": [
        "a #In the memory, a memory block is create with reference name a and value 6"
      ]
    },
    {
      "cell_type": "code",
      "execution_count": null,
      "id": "6eb3641b-5d74-47a9-8b94-eda9540dc342",
      "metadata": {
        "id": "6eb3641b-5d74-47a9-8b94-eda9540dc342"
      },
      "outputs": [],
      "source": [
        "b = \"Ajay\""
      ]
    },
    {
      "cell_type": "code",
      "execution_count": null,
      "id": "be5453c5-4372-4739-9cd1-5aee9aa5fb1f",
      "metadata": {
        "id": "be5453c5-4372-4739-9cd1-5aee9aa5fb1f",
        "outputId": "c5f08d15-e085-4bdf-e5b3-00529279e870"
      },
      "outputs": [
        {
          "data": {
            "text/plain": [
              "'Ajay'"
            ]
          },
          "execution_count": 4,
          "metadata": {},
          "output_type": "execute_result"
        }
      ],
      "source": [
        "b"
      ]
    },
    {
      "cell_type": "code",
      "execution_count": null,
      "id": "a482d25e-d1c5-4f05-bb85-a4747bd7e369",
      "metadata": {
        "id": "a482d25e-d1c5-4f05-bb85-a4747bd7e369",
        "outputId": "cdcd0ac4-ae20-4a35-8633-5a4f3a487151"
      },
      "outputs": [
        {
          "data": {
            "text/plain": [
              "'A'"
            ]
          },
          "execution_count": 5,
          "metadata": {},
          "output_type": "execute_result"
        }
      ],
      "source": [
        "b[0]"
      ]
    },
    {
      "cell_type": "code",
      "execution_count": null,
      "id": "1ea27ba1-80d2-46bb-ab30-68946a9bdbc7",
      "metadata": {
        "id": "1ea27ba1-80d2-46bb-ab30-68946a9bdbc7",
        "outputId": "142208ca-a55f-4391-9941-a9f0013e3257"
      },
      "outputs": [
        {
          "data": {
            "text/plain": [
              "'a'"
            ]
          },
          "execution_count": 6,
          "metadata": {},
          "output_type": "execute_result"
        }
      ],
      "source": [
        "b[2]"
      ]
    },
    {
      "cell_type": "code",
      "execution_count": null,
      "id": "af07cef7-d7b8-451f-87d8-01006f37be83",
      "metadata": {
        "id": "af07cef7-d7b8-451f-87d8-01006f37be83",
        "outputId": "2ef3e872-39b4-4454-f2ad-9fa35dcab5fd"
      },
      "outputs": [
        {
          "data": {
            "text/plain": [
              "'a'"
            ]
          },
          "execution_count": 7,
          "metadata": {},
          "output_type": "execute_result"
        }
      ],
      "source": [
        "b[-2]"
      ]
    },
    {
      "cell_type": "code",
      "execution_count": null,
      "id": "7c48f2d5-80ba-4d75-8307-192ee6f41ae8",
      "metadata": {
        "id": "7c48f2d5-80ba-4d75-8307-192ee6f41ae8",
        "outputId": "e8b51031-0331-4927-c41e-4a9a13695307"
      },
      "outputs": [
        {
          "data": {
            "text/plain": [
              "[1, 2, 3, 4.3, (3+5j), True, 'Ajay']"
            ]
          },
          "execution_count": 8,
          "metadata": {},
          "output_type": "execute_result"
        }
      ],
      "source": [
        "#another type of data container\n",
        "list_cont = [1, 2, 3, 4.3, 3+5j, True, \"Ajay\"]\n",
        "list_cont"
      ]
    },
    {
      "cell_type": "code",
      "execution_count": null,
      "id": "6daaddcc-b610-4501-bc68-d940e6325eed",
      "metadata": {
        "id": "6daaddcc-b610-4501-bc68-d940e6325eed",
        "outputId": "dc2e78e1-31a3-4433-a9f4-89b4b0dd99d6"
      },
      "outputs": [
        {
          "data": {
            "text/plain": [
              "1"
            ]
          },
          "execution_count": 9,
          "metadata": {},
          "output_type": "execute_result"
        }
      ],
      "source": [
        "list_cont[0]"
      ]
    },
    {
      "cell_type": "code",
      "execution_count": null,
      "id": "2586f46a-070f-4129-821c-4613ee0f1d38",
      "metadata": {
        "id": "2586f46a-070f-4129-821c-4613ee0f1d38",
        "outputId": "546aeb3d-b47a-4630-d99e-fb7a2d8b5aab"
      },
      "outputs": [
        {
          "data": {
            "text/plain": [
              "(3+5j)"
            ]
          },
          "execution_count": 10,
          "metadata": {},
          "output_type": "execute_result"
        }
      ],
      "source": [
        "list_cont[4]"
      ]
    },
    {
      "cell_type": "code",
      "execution_count": null,
      "id": "9f1d0dea-c8ac-418c-93b8-67d51b961c42",
      "metadata": {
        "id": "9f1d0dea-c8ac-418c-93b8-67d51b961c42",
        "outputId": "c56c6cf7-01bd-4405-c07a-d55f7403544b"
      },
      "outputs": [
        {
          "data": {
            "text/plain": [
              "list"
            ]
          },
          "execution_count": 11,
          "metadata": {},
          "output_type": "execute_result"
        }
      ],
      "source": [
        "type(list_cont)"
      ]
    },
    {
      "cell_type": "code",
      "execution_count": null,
      "id": "6b9115fa-1ade-4f5f-a663-6eccd23b1d3d",
      "metadata": {
        "id": "6b9115fa-1ade-4f5f-a663-6eccd23b1d3d",
        "outputId": "f3b1b2a8-2b34-4e17-94ff-78498fabbee7"
      },
      "outputs": [
        {
          "data": {
            "text/plain": [
              "'Ajay'"
            ]
          },
          "execution_count": 12,
          "metadata": {},
          "output_type": "execute_result"
        }
      ],
      "source": [
        "list_cont[6]"
      ]
    },
    {
      "cell_type": "code",
      "execution_count": null,
      "id": "c3b79dd1-751c-47f3-80ee-4eb2a95e3650",
      "metadata": {
        "id": "c3b79dd1-751c-47f3-80ee-4eb2a95e3650",
        "outputId": "5b17f37c-3c1d-462e-a0ae-5340b10adff4"
      },
      "outputs": [
        {
          "data": {
            "text/plain": [
              "'Ajay'"
            ]
          },
          "execution_count": 13,
          "metadata": {},
          "output_type": "execute_result"
        }
      ],
      "source": [
        "list_cont[-1]"
      ]
    },
    {
      "cell_type": "code",
      "execution_count": null,
      "id": "a4ea8bdc-003f-419d-af5f-6b65710f6101",
      "metadata": {
        "id": "a4ea8bdc-003f-419d-af5f-6b65710f6101"
      },
      "outputs": [],
      "source": [
        "#mutability\n",
        "list_cont[6] = \"Bijay\""
      ]
    },
    {
      "cell_type": "code",
      "execution_count": null,
      "id": "d39ae36f-28fa-4e88-94ca-c8643901eb47",
      "metadata": {
        "id": "d39ae36f-28fa-4e88-94ca-c8643901eb47",
        "outputId": "6d3ae0fd-eee0-4423-8eef-6089438a57ae"
      },
      "outputs": [
        {
          "data": {
            "text/plain": [
              "[1, 2, 3, 4.3, (3+5j), True, 'Bijay']"
            ]
          },
          "execution_count": 16,
          "metadata": {},
          "output_type": "execute_result"
        }
      ],
      "source": [
        "list_cont"
      ]
    },
    {
      "cell_type": "code",
      "execution_count": null,
      "id": "5b20ab86-7033-4f1a-bbaa-bd265545c60e",
      "metadata": {
        "id": "5b20ab86-7033-4f1a-bbaa-bd265545c60e"
      },
      "outputs": [],
      "source": [
        "list_cont[0] = 100"
      ]
    },
    {
      "cell_type": "code",
      "execution_count": null,
      "id": "ed890bbe-0cf9-48a1-9fb4-cbd8585a67e3",
      "metadata": {
        "id": "ed890bbe-0cf9-48a1-9fb4-cbd8585a67e3",
        "outputId": "d498a983-66b7-425d-a89e-3886ceb1d8c5"
      },
      "outputs": [
        {
          "data": {
            "text/plain": [
              "[100, 2, 3, 4.3, (3+5j), True, 'Bijay']"
            ]
          },
          "execution_count": 19,
          "metadata": {},
          "output_type": "execute_result"
        }
      ],
      "source": [
        "list_cont"
      ]
    },
    {
      "cell_type": "code",
      "execution_count": null,
      "id": "9ffec44b-cdf6-437e-b0a6-665528e27f53",
      "metadata": {
        "id": "9ffec44b-cdf6-437e-b0a6-665528e27f53"
      },
      "outputs": [],
      "source": [
        "list_cont[1] = \"pwskills\""
      ]
    },
    {
      "cell_type": "code",
      "execution_count": null,
      "id": "2efc5440-d665-424c-b80a-f3c41b8353df",
      "metadata": {
        "id": "2efc5440-d665-424c-b80a-f3c41b8353df",
        "outputId": "3f2a16ad-c86d-4fea-e0ba-184ecf5b145e"
      },
      "outputs": [
        {
          "data": {
            "text/plain": [
              "[100, 'pwskills', 3, 4.3, (3+5j), True, 'Bijay']"
            ]
          },
          "execution_count": 22,
          "metadata": {},
          "output_type": "execute_result"
        }
      ],
      "source": [
        "list_cont"
      ]
    },
    {
      "cell_type": "code",
      "execution_count": null,
      "id": "c68716db-7467-4ea9-85d5-5304a5fbd5fe",
      "metadata": {
        "id": "c68716db-7467-4ea9-85d5-5304a5fbd5fe"
      },
      "outputs": [],
      "source": [
        "#objects/container whose state or value can be changed after they are created are\n",
        "#called as mutable objects or container,\n",
        "#list is a type of mutable object/supports item assignment"
      ]
    },
    {
      "cell_type": "code",
      "execution_count": null,
      "id": "323db1f4-4ad0-44fe-9b02-e0686c759b8e",
      "metadata": {
        "id": "323db1f4-4ad0-44fe-9b02-e0686c759b8e",
        "outputId": "3c1d6ac9-e7b4-4298-c117-258f061bfebe"
      },
      "outputs": [
        {
          "data": {
            "text/plain": [
              "'pwskills'"
            ]
          },
          "execution_count": 24,
          "metadata": {},
          "output_type": "execute_result"
        }
      ],
      "source": [
        "b = \"pwskills\"\n",
        "b"
      ]
    },
    {
      "cell_type": "code",
      "execution_count": null,
      "id": "8fd6f7f3-76f9-424c-b3a4-1dc9bad64110",
      "metadata": {
        "id": "8fd6f7f3-76f9-424c-b3a4-1dc9bad64110",
        "outputId": "17ecee1a-cd3d-4d6b-ca9c-0dcd2002194b"
      },
      "outputs": [
        {
          "ename": "TypeError",
          "evalue": "'str' object does not support item assignment",
          "output_type": "error",
          "traceback": [
            "\u001b[0;31m---------------------------------------------------------------------------\u001b[0m",
            "\u001b[0;31mTypeError\u001b[0m                                 Traceback (most recent call last)",
            "Cell \u001b[0;32mIn[26], line 1\u001b[0m\n\u001b[0;32m----> 1\u001b[0m \u001b[43mb\u001b[49m\u001b[43m[\u001b[49m\u001b[38;5;241;43m0\u001b[39;49m\u001b[43m]\u001b[49m \u001b[38;5;241m=\u001b[39m \u001b[38;5;124m\"\u001b[39m\u001b[38;5;124mI\u001b[39m\u001b[38;5;124m\"\u001b[39m\n",
            "\u001b[0;31mTypeError\u001b[0m: 'str' object does not support item assignment"
          ]
        }
      ],
      "source": [
        "b[0] = \"I\""
      ]
    },
    {
      "cell_type": "code",
      "execution_count": null,
      "id": "112dbe3d-c6f7-476d-86be-264e5d277546",
      "metadata": {
        "id": "112dbe3d-c6f7-476d-86be-264e5d277546",
        "outputId": "a8b05b8f-be9d-4072-bf85-e9225995d2ed"
      },
      "outputs": [
        {
          "ename": "TypeError",
          "evalue": "'str' object does not support item assignment",
          "output_type": "error",
          "traceback": [
            "\u001b[0;31m---------------------------------------------------------------------------\u001b[0m",
            "\u001b[0;31mTypeError\u001b[0m                                 Traceback (most recent call last)",
            "Cell \u001b[0;32mIn[27], line 1\u001b[0m\n\u001b[0;32m----> 1\u001b[0m \u001b[43mb\u001b[49m\u001b[43m[\u001b[49m\u001b[38;5;241;43m5\u001b[39;49m\u001b[43m]\u001b[49m \u001b[38;5;241m=\u001b[39m \u001b[38;5;124m\"\u001b[39m\u001b[38;5;124mRam\u001b[39m\u001b[38;5;124m\"\u001b[39m\n",
            "\u001b[0;31mTypeError\u001b[0m: 'str' object does not support item assignment"
          ]
        }
      ],
      "source": [
        "b[5] = \"Ram\""
      ]
    },
    {
      "cell_type": "code",
      "execution_count": null,
      "id": "24873df6-ed27-4506-9843-ddac6afcb1df",
      "metadata": {
        "id": "24873df6-ed27-4506-9843-ddac6afcb1df"
      },
      "outputs": [],
      "source": [
        "#objects/container whose state or value can not be changed after they are created are\n",
        "#called as immutable objects or container,\n",
        "#string is a type of immutable object/ doesn't supports item assignment"
      ]
    }
  ],
  "metadata": {
    "kernelspec": {
      "display_name": "Python 3 (ipykernel)",
      "language": "python",
      "name": "python3"
    },
    "language_info": {
      "codemirror_mode": {
        "name": "ipython",
        "version": 3
      },
      "file_extension": ".py",
      "mimetype": "text/x-python",
      "name": "python",
      "nbconvert_exporter": "python",
      "pygments_lexer": "ipython3",
      "version": "3.10.8"
    },
    "colab": {
      "provenance": [],
      "include_colab_link": true
    }
  },
  "nbformat": 4,
  "nbformat_minor": 5
}
